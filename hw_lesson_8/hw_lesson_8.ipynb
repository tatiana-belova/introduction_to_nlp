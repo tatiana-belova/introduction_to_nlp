{
 "cells": [
  {
   "cell_type": "markdown",
   "metadata": {
    "id": "zIoob2pNCkR4"
   },
   "source": [
    "# Урок 8. Рекуррентные нейронные сети RNN LSTM GRU\n",
    "\n",
    "# Домашнее задание"
   ]
  },
  {
   "cell_type": "code",
   "execution_count": 2,
   "metadata": {
    "id": "2mSNzZxkMTlf"
   },
   "outputs": [],
   "source": [
    "import pandas as pd\n",
    "from sklearn.model_selection import train_test_split\n",
    "\n",
    "from string import punctuation\n",
    "from stop_words import get_stop_words\n",
    "from pymorphy2 import MorphAnalyzer\n",
    "import re\n",
    "from sklearn.preprocessing import LabelEncoder\n",
    "import tensorflow as tf\n",
    "import tensorflow_addons as tfa\n",
    "\n",
    "from keras.preprocessing.text import Tokenizer\n",
    "from keras.preprocessing.sequence import pad_sequences\n",
    "from keras.losses import SparseCategoricalCrossentropy\n",
    "from keras.models import Sequential, Model\n",
    "from keras.layers import Dense, Dropout, Activation, Input, Embedding, Conv1D, GlobalMaxPool1D, SimpleRNN, LSTM, GRU, Masking\n",
    "from keras.callbacks import TensorBoard \n",
    "from keras.callbacks import EarlyStopping "
   ]
  },
  {
   "cell_type": "code",
   "execution_count": 4,
   "metadata": {
    "colab": {
     "base_uri": "https://localhost:8080/",
     "height": 206
    },
    "id": "cXgp5sMgM2FV",
    "outputId": "ae04c8be-c125-4c9f-a7e2-212754b40f93"
   },
   "outputs": [
    {
     "data": {
      "text/html": [
       "\n",
       "  <div id=\"df-ee07cbdf-5a45-4dc1-9185-ce8063f3b226\">\n",
       "    <div class=\"colab-df-container\">\n",
       "      <div>\n",
       "<style scoped>\n",
       "    .dataframe tbody tr th:only-of-type {\n",
       "        vertical-align: middle;\n",
       "    }\n",
       "\n",
       "    .dataframe tbody tr th {\n",
       "        vertical-align: top;\n",
       "    }\n",
       "\n",
       "    .dataframe thead th {\n",
       "        text-align: right;\n",
       "    }\n",
       "</style>\n",
       "<table border=\"1\" class=\"dataframe\">\n",
       "  <thead>\n",
       "    <tr style=\"text-align: right;\">\n",
       "      <th></th>\n",
       "      <th>Rating</th>\n",
       "      <th>Content</th>\n",
       "      <th>Date</th>\n",
       "    </tr>\n",
       "  </thead>\n",
       "  <tbody>\n",
       "    <tr>\n",
       "      <th>0</th>\n",
       "      <td>5</td>\n",
       "      <td>It just works!</td>\n",
       "      <td>2017-08-14</td>\n",
       "    </tr>\n",
       "    <tr>\n",
       "      <th>1</th>\n",
       "      <td>4</td>\n",
       "      <td>В целом удобноное приложение...из минусов хотя...</td>\n",
       "      <td>2017-08-14</td>\n",
       "    </tr>\n",
       "    <tr>\n",
       "      <th>2</th>\n",
       "      <td>5</td>\n",
       "      <td>Отлично все</td>\n",
       "      <td>2017-08-14</td>\n",
       "    </tr>\n",
       "    <tr>\n",
       "      <th>3</th>\n",
       "      <td>5</td>\n",
       "      <td>Стал зависать на 1% работы антивируса. Дальше ...</td>\n",
       "      <td>2017-08-14</td>\n",
       "    </tr>\n",
       "    <tr>\n",
       "      <th>4</th>\n",
       "      <td>5</td>\n",
       "      <td>Очень удобно, работает быстро.</td>\n",
       "      <td>2017-08-14</td>\n",
       "    </tr>\n",
       "  </tbody>\n",
       "</table>\n",
       "</div>\n",
       "      <button class=\"colab-df-convert\" onclick=\"convertToInteractive('df-ee07cbdf-5a45-4dc1-9185-ce8063f3b226')\"\n",
       "              title=\"Convert this dataframe to an interactive table.\"\n",
       "              style=\"display:none;\">\n",
       "        \n",
       "  <svg xmlns=\"http://www.w3.org/2000/svg\" height=\"24px\"viewBox=\"0 0 24 24\"\n",
       "       width=\"24px\">\n",
       "    <path d=\"M0 0h24v24H0V0z\" fill=\"none\"/>\n",
       "    <path d=\"M18.56 5.44l.94 2.06.94-2.06 2.06-.94-2.06-.94-.94-2.06-.94 2.06-2.06.94zm-11 1L8.5 8.5l.94-2.06 2.06-.94-2.06-.94L8.5 2.5l-.94 2.06-2.06.94zm10 10l.94 2.06.94-2.06 2.06-.94-2.06-.94-.94-2.06-.94 2.06-2.06.94z\"/><path d=\"M17.41 7.96l-1.37-1.37c-.4-.4-.92-.59-1.43-.59-.52 0-1.04.2-1.43.59L10.3 9.45l-7.72 7.72c-.78.78-.78 2.05 0 2.83L4 21.41c.39.39.9.59 1.41.59.51 0 1.02-.2 1.41-.59l7.78-7.78 2.81-2.81c.8-.78.8-2.07 0-2.86zM5.41 20L4 18.59l7.72-7.72 1.47 1.35L5.41 20z\"/>\n",
       "  </svg>\n",
       "      </button>\n",
       "      \n",
       "  <style>\n",
       "    .colab-df-container {\n",
       "      display:flex;\n",
       "      flex-wrap:wrap;\n",
       "      gap: 12px;\n",
       "    }\n",
       "\n",
       "    .colab-df-convert {\n",
       "      background-color: #E8F0FE;\n",
       "      border: none;\n",
       "      border-radius: 50%;\n",
       "      cursor: pointer;\n",
       "      display: none;\n",
       "      fill: #1967D2;\n",
       "      height: 32px;\n",
       "      padding: 0 0 0 0;\n",
       "      width: 32px;\n",
       "    }\n",
       "\n",
       "    .colab-df-convert:hover {\n",
       "      background-color: #E2EBFA;\n",
       "      box-shadow: 0px 1px 2px rgba(60, 64, 67, 0.3), 0px 1px 3px 1px rgba(60, 64, 67, 0.15);\n",
       "      fill: #174EA6;\n",
       "    }\n",
       "\n",
       "    [theme=dark] .colab-df-convert {\n",
       "      background-color: #3B4455;\n",
       "      fill: #D2E3FC;\n",
       "    }\n",
       "\n",
       "    [theme=dark] .colab-df-convert:hover {\n",
       "      background-color: #434B5C;\n",
       "      box-shadow: 0px 1px 3px 1px rgba(0, 0, 0, 0.15);\n",
       "      filter: drop-shadow(0px 1px 2px rgba(0, 0, 0, 0.3));\n",
       "      fill: #FFFFFF;\n",
       "    }\n",
       "  </style>\n",
       "\n",
       "      <script>\n",
       "        const buttonEl =\n",
       "          document.querySelector('#df-ee07cbdf-5a45-4dc1-9185-ce8063f3b226 button.colab-df-convert');\n",
       "        buttonEl.style.display =\n",
       "          google.colab.kernel.accessAllowed ? 'block' : 'none';\n",
       "\n",
       "        async function convertToInteractive(key) {\n",
       "          const element = document.querySelector('#df-ee07cbdf-5a45-4dc1-9185-ce8063f3b226');\n",
       "          const dataTable =\n",
       "            await google.colab.kernel.invokeFunction('convertToInteractive',\n",
       "                                                     [key], {});\n",
       "          if (!dataTable) return;\n",
       "\n",
       "          const docLinkHtml = 'Like what you see? Visit the ' +\n",
       "            '<a target=\"_blank\" href=https://colab.research.google.com/notebooks/data_table.ipynb>data table notebook</a>'\n",
       "            + ' to learn more about interactive tables.';\n",
       "          element.innerHTML = '';\n",
       "          dataTable['output_type'] = 'display_data';\n",
       "          await google.colab.output.renderOutput(dataTable, element);\n",
       "          const docLink = document.createElement('div');\n",
       "          docLink.innerHTML = docLinkHtml;\n",
       "          element.appendChild(docLink);\n",
       "        }\n",
       "      </script>\n",
       "    </div>\n",
       "  </div>\n",
       "  "
      ],
      "text/plain": [
       "   Rating                                            Content        Date\n",
       "0       5                                     It just works!  2017-08-14\n",
       "1       4  В целом удобноное приложение...из минусов хотя...  2017-08-14\n",
       "2       5                                        Отлично все  2017-08-14\n",
       "3       5  Стал зависать на 1% работы антивируса. Дальше ...  2017-08-14\n",
       "4       5                     Очень удобно, работает быстро.  2017-08-14"
      ]
     },
     "execution_count": 4,
     "metadata": {},
     "output_type": "execute_result"
    }
   ],
   "source": [
    "df = pd.read_excel('summer_reviews.xls')\n",
    "df.head()"
   ]
  },
  {
   "cell_type": "code",
   "execution_count": 5,
   "metadata": {
    "id": "B8ZFBA1FM_0O"
   },
   "outputs": [],
   "source": [
    "df_train, df_test = train_test_split(df, test_size=0.33, random_state=42)"
   ]
  },
  {
   "cell_type": "code",
   "execution_count": 6,
   "metadata": {
    "id": "obn_nH84NGlK"
   },
   "outputs": [],
   "source": [
    "sw = set(get_stop_words(\"ru\"))\n",
    "exclude = set(punctuation)\n",
    "morpher = MorphAnalyzer()\n",
    "\n",
    "def preprocess_text(txt):\n",
    "    txt = str(txt)\n",
    "    txt = \"\".join(c for c in txt if c not in exclude)\n",
    "    txt = txt.lower()\n",
    "    txt = re.sub(\"\\sне\", \"не\", txt)\n",
    "    txt = [morpher.parse(word)[0].normal_form for word in txt.split() if word not in sw]\n",
    "    return \" \".join(txt)\n",
    "\n",
    "df_train['Content'] = df_train['Content'].apply(preprocess_text)\n",
    "df_test['Content'] = df_test['Content'].apply(preprocess_text)"
   ]
  },
  {
   "cell_type": "code",
   "execution_count": 7,
   "metadata": {
    "colab": {
     "base_uri": "https://localhost:8080/",
     "height": 206
    },
    "id": "S-YVwvgxNOU-",
    "outputId": "5af9e30f-3136-4c5f-fa70-6d01c81abfe6"
   },
   "outputs": [
    {
     "data": {
      "text/html": [
       "\n",
       "  <div id=\"df-d99fcdc3-50e4-4fef-88c9-ff431395cbe4\">\n",
       "    <div class=\"colab-df-container\">\n",
       "      <div>\n",
       "<style scoped>\n",
       "    .dataframe tbody tr th:only-of-type {\n",
       "        vertical-align: middle;\n",
       "    }\n",
       "\n",
       "    .dataframe tbody tr th {\n",
       "        vertical-align: top;\n",
       "    }\n",
       "\n",
       "    .dataframe thead th {\n",
       "        text-align: right;\n",
       "    }\n",
       "</style>\n",
       "<table border=\"1\" class=\"dataframe\">\n",
       "  <thead>\n",
       "    <tr style=\"text-align: right;\">\n",
       "      <th></th>\n",
       "      <th>Rating</th>\n",
       "      <th>Content</th>\n",
       "      <th>Date</th>\n",
       "    </tr>\n",
       "  </thead>\n",
       "  <tbody>\n",
       "    <tr>\n",
       "      <th>3517</th>\n",
       "      <td>5</td>\n",
       "      <td>наконецтый исправить чушь снеоргинальный проши...</td>\n",
       "      <td>2017-08-09</td>\n",
       "    </tr>\n",
       "    <tr>\n",
       "      <th>12399</th>\n",
       "      <td>5</td>\n",
       "      <td>удобно использование</td>\n",
       "      <td>2017-07-27</td>\n",
       "    </tr>\n",
       "    <tr>\n",
       "      <th>3833</th>\n",
       "      <td>5</td>\n",
       "      <td>отлично</td>\n",
       "      <td>2017-08-08</td>\n",
       "    </tr>\n",
       "    <tr>\n",
       "      <th>13250</th>\n",
       "      <td>5</td>\n",
       "      <td>класс</td>\n",
       "      <td>2017-07-25</td>\n",
       "    </tr>\n",
       "    <tr>\n",
       "      <th>17941</th>\n",
       "      <td>5</td>\n",
       "      <td>удобно</td>\n",
       "      <td>2017-07-08</td>\n",
       "    </tr>\n",
       "  </tbody>\n",
       "</table>\n",
       "</div>\n",
       "      <button class=\"colab-df-convert\" onclick=\"convertToInteractive('df-d99fcdc3-50e4-4fef-88c9-ff431395cbe4')\"\n",
       "              title=\"Convert this dataframe to an interactive table.\"\n",
       "              style=\"display:none;\">\n",
       "        \n",
       "  <svg xmlns=\"http://www.w3.org/2000/svg\" height=\"24px\"viewBox=\"0 0 24 24\"\n",
       "       width=\"24px\">\n",
       "    <path d=\"M0 0h24v24H0V0z\" fill=\"none\"/>\n",
       "    <path d=\"M18.56 5.44l.94 2.06.94-2.06 2.06-.94-2.06-.94-.94-2.06-.94 2.06-2.06.94zm-11 1L8.5 8.5l.94-2.06 2.06-.94-2.06-.94L8.5 2.5l-.94 2.06-2.06.94zm10 10l.94 2.06.94-2.06 2.06-.94-2.06-.94-.94-2.06-.94 2.06-2.06.94z\"/><path d=\"M17.41 7.96l-1.37-1.37c-.4-.4-.92-.59-1.43-.59-.52 0-1.04.2-1.43.59L10.3 9.45l-7.72 7.72c-.78.78-.78 2.05 0 2.83L4 21.41c.39.39.9.59 1.41.59.51 0 1.02-.2 1.41-.59l7.78-7.78 2.81-2.81c.8-.78.8-2.07 0-2.86zM5.41 20L4 18.59l7.72-7.72 1.47 1.35L5.41 20z\"/>\n",
       "  </svg>\n",
       "      </button>\n",
       "      \n",
       "  <style>\n",
       "    .colab-df-container {\n",
       "      display:flex;\n",
       "      flex-wrap:wrap;\n",
       "      gap: 12px;\n",
       "    }\n",
       "\n",
       "    .colab-df-convert {\n",
       "      background-color: #E8F0FE;\n",
       "      border: none;\n",
       "      border-radius: 50%;\n",
       "      cursor: pointer;\n",
       "      display: none;\n",
       "      fill: #1967D2;\n",
       "      height: 32px;\n",
       "      padding: 0 0 0 0;\n",
       "      width: 32px;\n",
       "    }\n",
       "\n",
       "    .colab-df-convert:hover {\n",
       "      background-color: #E2EBFA;\n",
       "      box-shadow: 0px 1px 2px rgba(60, 64, 67, 0.3), 0px 1px 3px 1px rgba(60, 64, 67, 0.15);\n",
       "      fill: #174EA6;\n",
       "    }\n",
       "\n",
       "    [theme=dark] .colab-df-convert {\n",
       "      background-color: #3B4455;\n",
       "      fill: #D2E3FC;\n",
       "    }\n",
       "\n",
       "    [theme=dark] .colab-df-convert:hover {\n",
       "      background-color: #434B5C;\n",
       "      box-shadow: 0px 1px 3px 1px rgba(0, 0, 0, 0.15);\n",
       "      filter: drop-shadow(0px 1px 2px rgba(0, 0, 0, 0.3));\n",
       "      fill: #FFFFFF;\n",
       "    }\n",
       "  </style>\n",
       "\n",
       "      <script>\n",
       "        const buttonEl =\n",
       "          document.querySelector('#df-d99fcdc3-50e4-4fef-88c9-ff431395cbe4 button.colab-df-convert');\n",
       "        buttonEl.style.display =\n",
       "          google.colab.kernel.accessAllowed ? 'block' : 'none';\n",
       "\n",
       "        async function convertToInteractive(key) {\n",
       "          const element = document.querySelector('#df-d99fcdc3-50e4-4fef-88c9-ff431395cbe4');\n",
       "          const dataTable =\n",
       "            await google.colab.kernel.invokeFunction('convertToInteractive',\n",
       "                                                     [key], {});\n",
       "          if (!dataTable) return;\n",
       "\n",
       "          const docLinkHtml = 'Like what you see? Visit the ' +\n",
       "            '<a target=\"_blank\" href=https://colab.research.google.com/notebooks/data_table.ipynb>data table notebook</a>'\n",
       "            + ' to learn more about interactive tables.';\n",
       "          element.innerHTML = '';\n",
       "          dataTable['output_type'] = 'display_data';\n",
       "          await google.colab.output.renderOutput(dataTable, element);\n",
       "          const docLink = document.createElement('div');\n",
       "          docLink.innerHTML = docLinkHtml;\n",
       "          element.appendChild(docLink);\n",
       "        }\n",
       "      </script>\n",
       "    </div>\n",
       "  </div>\n",
       "  "
      ],
      "text/plain": [
       "       Rating                                            Content        Date\n",
       "3517        5  наконецтый исправить чушь снеоргинальный проши...  2017-08-09\n",
       "12399       5                               удобно использование  2017-07-27\n",
       "3833        5                                            отлично  2017-08-08\n",
       "13250       5                                              класс  2017-07-25\n",
       "17941       5                                             удобно  2017-07-08"
      ]
     },
     "execution_count": 7,
     "metadata": {},
     "output_type": "execute_result"
    }
   ],
   "source": [
    "df_train.head()"
   ]
  },
  {
   "cell_type": "code",
   "execution_count": 8,
   "metadata": {
    "colab": {
     "base_uri": "https://localhost:8080/"
    },
    "id": "fo-yEukcNTjc",
    "outputId": "a35bed28-b5a4-4e0a-e808-9cbc7a3f27b9"
   },
   "outputs": [
    {
     "data": {
      "text/plain": [
       "10292"
      ]
     },
     "execution_count": 8,
     "metadata": {},
     "output_type": "execute_result"
    }
   ],
   "source": [
    "text_corpus_train = df_train['Content'].values\n",
    "text_corpus_test = df_test['Content'].values\n",
    "\n",
    "tokenizer = Tokenizer(num_words=None, \n",
    "                     filters='#$%&()*+-<=>@[\\\\]^_`{|}~\\t\\n', #символы для удаления из текстов\n",
    "                     lower = False, #перевод к нижнему регистру\n",
    "                      split = ' ') #разделитель для слов\n",
    "\n",
    "tokenizer.fit_on_texts(text_corpus_train)\n",
    "\n",
    "len(tokenizer.index_word)"
   ]
  },
  {
   "cell_type": "code",
   "execution_count": 9,
   "metadata": {
    "colab": {
     "base_uri": "https://localhost:8080/"
    },
    "id": "tcV-tpEiNg-6",
    "outputId": "2607fc87-42ba-43bb-978f-5d739ffe70af"
   },
   "outputs": [
    {
     "data": {
      "text/plain": [
       "[[610, 42, 775, 3539, 22, 1, 2, 15],\n",
       " [2, 181],\n",
       " [5],\n",
       " [60],\n",
       " [2],\n",
       " [127, 1],\n",
       " [37, 970, 66, 104, 30, 484, 887],\n",
       " [102, 51, 1, 690, 139, 732, 106, 1968, 53, 1969, 1625, 2],\n",
       " [463, 206, 147, 128, 99, 20, 111, 1059, 51, 9],\n",
       " [26, 1371, 888, 5, 3540, 733]]"
      ]
     },
     "execution_count": 9,
     "metadata": {},
     "output_type": "execute_result"
    }
   ],
   "source": [
    "sequences_train = tokenizer.texts_to_sequences(text_corpus_train)\n",
    "sequences_test = tokenizer.texts_to_sequences(text_corpus_test)\n",
    "\n",
    "sequences_train[:10]"
   ]
  },
  {
   "cell_type": "code",
   "execution_count": 10,
   "metadata": {
    "colab": {
     "base_uri": "https://localhost:8080/"
    },
    "id": "aymvSkCTNlMz",
    "outputId": "d34eced5-7bb0-4c0e-c66c-952bd6149f4d"
   },
   "outputs": [
    {
     "data": {
      "text/plain": [
       "(10293, 113)"
      ]
     },
     "execution_count": 10,
     "metadata": {},
     "output_type": "execute_result"
    }
   ],
   "source": [
    "word_count = len(tokenizer.index_word) + 1 \n",
    "training_length = max([len(i.split()) for i in text_corpus_train])\n",
    "word_count, training_length "
   ]
  },
  {
   "cell_type": "code",
   "execution_count": 11,
   "metadata": {
    "id": "_YRYEnw8NwEr"
   },
   "outputs": [],
   "source": [
    "X_train = pad_sequences(sequences_train, maxlen=training_length)\n",
    "X_test = pad_sequences(sequences_test, maxlen=training_length)"
   ]
  },
  {
   "cell_type": "code",
   "execution_count": 12,
   "metadata": {
    "id": "zxRiDi5tOFMe"
   },
   "outputs": [],
   "source": [
    "le = LabelEncoder()\n",
    "train_enc_labels = le.fit_transform(df_train['Rating']) \n",
    "test_enc_labels = le.transform(df_test['Rating'])\n",
    "le.classes_\n",
    "\n",
    "num_classes = 5\n",
    "y_train = tf.keras.utils.to_categorical(train_enc_labels, num_classes=num_classes)\n",
    "y_test = tf.keras.utils.to_categorical(test_enc_labels, num_classes=num_classes)"
   ]
  },
  {
   "cell_type": "markdown",
   "metadata": {
    "id": "3Bn_RalLObK1"
   },
   "source": [
    "#### CONV"
   ]
  },
  {
   "cell_type": "code",
   "execution_count": 13,
   "metadata": {
    "colab": {
     "base_uri": "https://localhost:8080/"
    },
    "id": "W_0FcSTlOaHU",
    "outputId": "dbae6491-515a-484b-a116-5765402d636e"
   },
   "outputs": [
    {
     "name": "stdout",
     "output_type": "stream",
     "text": [
      "Model: \"sequential\"\n",
      "_________________________________________________________________\n",
      " Layer (type)                Output Shape              Param #   \n",
      "=================================================================\n",
      " embedding (Embedding)       (None, 113, 128)          1317504   \n",
      "                                                                 \n",
      " conv1d (Conv1D)             (None, 111, 128)          49280     \n",
      "                                                                 \n",
      " global_max_pooling1d (Globa  (None, 128)              0         \n",
      " lMaxPooling1D)                                                  \n",
      "                                                                 \n",
      " dense (Dense)               (None, 10)                1290      \n",
      "                                                                 \n",
      " dense_1 (Dense)             (None, 5)                 55        \n",
      "                                                                 \n",
      " activation (Activation)     (None, 5)                 0         \n",
      "                                                                 \n",
      "=================================================================\n",
      "Total params: 1,368,129\n",
      "Trainable params: 1,368,129\n",
      "Non-trainable params: 0\n",
      "_________________________________________________________________\n"
     ]
    }
   ],
   "source": [
    "model = Sequential()\n",
    "model.add(Embedding(input_dim=word_count, output_dim=128, input_length=training_length))                   \n",
    "model.add(Conv1D(128, 3))\n",
    "model.add(GlobalMaxPool1D())\n",
    "model.add(Dense(10))\n",
    "model.add(Dense(5))\n",
    "model.add(Activation('softmax'))\n",
    "model.summary()"
   ]
  },
  {
   "cell_type": "code",
   "execution_count": 14,
   "metadata": {
    "id": "EH8xqkgBO1hI"
   },
   "outputs": [],
   "source": [
    "model.compile(loss='categorical_crossentropy',\n",
    "              optimizer='adam',\n",
    "              metrics=['accuracy', tfa.metrics.F1Score(num_classes=num_classes)])"
   ]
  },
  {
   "cell_type": "code",
   "execution_count": 15,
   "metadata": {
    "colab": {
     "base_uri": "https://localhost:8080/"
    },
    "id": "styUz2BjPFZA",
    "outputId": "f00b6ecc-f231-42f8-c728-b0ac69f39242"
   },
   "outputs": [
    {
     "name": "stdout",
     "output_type": "stream",
     "text": [
      "Epoch 1/20\n",
      "25/25 [==============================] - 13s 27ms/step - loss: 1.0343 - accuracy: 0.6795 - f1_score: 0.1860 - val_loss: 0.8221 - val_accuracy: 0.7011 - val_f1_score: 0.1649\n",
      "Epoch 2/20\n",
      "25/25 [==============================] - 0s 13ms/step - loss: 0.7257 - accuracy: 0.7498 - f1_score: 0.2751 - val_loss: 0.7291 - val_accuracy: 0.7430 - val_f1_score: 0.2771\n",
      "Epoch 3/20\n",
      "25/25 [==============================] - 0s 13ms/step - loss: 0.6318 - accuracy: 0.7748 - f1_score: 0.2999 - val_loss: 0.7032 - val_accuracy: 0.7466 - val_f1_score: 0.2875\n",
      "Epoch 4/20\n",
      "25/25 [==============================] - 0s 12ms/step - loss: 0.5680 - accuracy: 0.7943 - f1_score: 0.3417 - val_loss: 0.7006 - val_accuracy: 0.7509 - val_f1_score: 0.3153\n",
      "Epoch 5/20\n",
      "25/25 [==============================] - 0s 13ms/step - loss: 0.5089 - accuracy: 0.8186 - f1_score: 0.3982 - val_loss: 0.7015 - val_accuracy: 0.7531 - val_f1_score: 0.3365\n",
      "Epoch 6/20\n",
      "25/25 [==============================] - 0s 13ms/step - loss: 0.4526 - accuracy: 0.8422 - f1_score: 0.4529 - val_loss: 0.7237 - val_accuracy: 0.7574 - val_f1_score: 0.3535\n",
      "Epoch 7/20\n",
      "25/25 [==============================] - 0s 13ms/step - loss: 0.3978 - accuracy: 0.8675 - f1_score: 0.5715 - val_loss: 0.7480 - val_accuracy: 0.7588 - val_f1_score: 0.3726\n",
      "Epoch 8/20\n",
      "25/25 [==============================] - 0s 13ms/step - loss: 0.3444 - accuracy: 0.8956 - f1_score: 0.7187 - val_loss: 0.7894 - val_accuracy: 0.7560 - val_f1_score: 0.4171\n",
      "Epoch 9/20\n",
      "25/25 [==============================] - 0s 13ms/step - loss: 0.2996 - accuracy: 0.9189 - f1_score: 0.8150 - val_loss: 0.8396 - val_accuracy: 0.7567 - val_f1_score: 0.4154\n",
      "Epoch 10/20\n",
      "25/25 [==============================] - 0s 12ms/step - loss: 0.2637 - accuracy: 0.9288 - f1_score: 0.8463 - val_loss: 0.8981 - val_accuracy: 0.7538 - val_f1_score: 0.4107\n",
      "Epoch 11/20\n",
      "25/25 [==============================] - 0s 13ms/step - loss: 0.2342 - accuracy: 0.9367 - f1_score: 0.8735 - val_loss: 0.9472 - val_accuracy: 0.7487 - val_f1_score: 0.4138\n",
      "Epoch 12/20\n",
      "25/25 [==============================] - 0s 13ms/step - loss: 0.2110 - accuracy: 0.9415 - f1_score: 0.8899 - val_loss: 1.0016 - val_accuracy: 0.7473 - val_f1_score: 0.3961\n",
      "Epoch 13/20\n",
      "25/25 [==============================] - 0s 13ms/step - loss: 0.1925 - accuracy: 0.9461 - f1_score: 0.9015 - val_loss: 1.0642 - val_accuracy: 0.7458 - val_f1_score: 0.3961\n",
      "Epoch 14/20\n",
      "25/25 [==============================] - 0s 13ms/step - loss: 0.1832 - accuracy: 0.9490 - f1_score: 0.9120 - val_loss: 1.1119 - val_accuracy: 0.7401 - val_f1_score: 0.3890\n",
      "Epoch 15/20\n",
      "25/25 [==============================] - 0s 13ms/step - loss: 0.1725 - accuracy: 0.9503 - f1_score: 0.9150 - val_loss: 1.1493 - val_accuracy: 0.7394 - val_f1_score: 0.3860\n",
      "Epoch 16/20\n",
      "25/25 [==============================] - 0s 13ms/step - loss: 0.1623 - accuracy: 0.9532 - f1_score: 0.9221 - val_loss: 1.2040 - val_accuracy: 0.7379 - val_f1_score: 0.3906\n",
      "Epoch 17/20\n",
      "25/25 [==============================] - 0s 12ms/step - loss: 0.1553 - accuracy: 0.9547 - f1_score: 0.9276 - val_loss: 1.2500 - val_accuracy: 0.7350 - val_f1_score: 0.3830\n",
      "Epoch 18/20\n",
      "25/25 [==============================] - 0s 19ms/step - loss: 0.1501 - accuracy: 0.9570 - f1_score: 0.9331 - val_loss: 1.2977 - val_accuracy: 0.7379 - val_f1_score: 0.3870\n",
      "Epoch 19/20\n",
      "25/25 [==============================] - 0s 14ms/step - loss: 0.1460 - accuracy: 0.9581 - f1_score: 0.9347 - val_loss: 1.3372 - val_accuracy: 0.7343 - val_f1_score: 0.3876\n",
      "Epoch 20/20\n",
      "25/25 [==============================] - 0s 14ms/step - loss: 0.1437 - accuracy: 0.9595 - f1_score: 0.9382 - val_loss: 1.3695 - val_accuracy: 0.7386 - val_f1_score: 0.3942\n"
     ]
    }
   ],
   "source": [
    "tensorboard=TensorBoard(log_dir='./logs', write_graph=True, write_images=True) \n",
    "\n",
    "epochs = 20\n",
    "batch_size = 512\n",
    "\n",
    "history = model.fit(X_train, y_train,\n",
    "                    batch_size=batch_size,\n",
    "                    epochs=epochs,\n",
    "                    verbose=1,\n",
    "                    validation_split=0.1)"
   ]
  },
  {
   "cell_type": "code",
   "execution_count": 17,
   "metadata": {
    "colab": {
     "base_uri": "https://localhost:8080/"
    },
    "id": "SACnt3jQQarh",
    "outputId": "7472f17e-083e-4212-ba7c-4d1fb86e2d1d"
   },
   "outputs": [
    {
     "name": "stdout",
     "output_type": "stream",
     "text": [
      "14/14 [==============================] - 0s 6ms/step - loss: 1.3426 - accuracy: 0.7353 - f1_score: 0.3829\n"
     ]
    }
   ],
   "source": [
    "score_conv = model.evaluate(X_test, y_test, batch_size=batch_size, verbose=1)"
   ]
  },
  {
   "cell_type": "markdown",
   "metadata": {
    "id": "-Iq-yA1nQkJW"
   },
   "source": [
    "#### SimpleRNN"
   ]
  },
  {
   "cell_type": "code",
   "execution_count": 18,
   "metadata": {
    "colab": {
     "base_uri": "https://localhost:8080/"
    },
    "id": "3JCCeRqjQmfN",
    "outputId": "a8fc2f5c-e890-4483-eb2e-5e462d4e07ee"
   },
   "outputs": [
    {
     "name": "stdout",
     "output_type": "stream",
     "text": [
      "Model: \"sequential_1\"\n",
      "_________________________________________________________________\n",
      " Layer (type)                Output Shape              Param #   \n",
      "=================================================================\n",
      " embedding_1 (Embedding)     (None, 113, 30)           308790    \n",
      "                                                                 \n",
      " masking (Masking)           (None, 113, 30)           0         \n",
      "                                                                 \n",
      " simple_rnn (SimpleRNN)      (None, 64)                6080      \n",
      "                                                                 \n",
      " dense_2 (Dense)             (None, 64)                4160      \n",
      "                                                                 \n",
      " dropout (Dropout)           (None, 64)                0         \n",
      "                                                                 \n",
      " dense_3 (Dense)             (None, 5)                 325       \n",
      "                                                                 \n",
      "=================================================================\n",
      "Total params: 319,355\n",
      "Trainable params: 319,355\n",
      "Non-trainable params: 0\n",
      "_________________________________________________________________\n"
     ]
    }
   ],
   "source": [
    "model = Sequential()\n",
    "\n",
    "model.add(Embedding(input_dim=word_count,\n",
    "              input_length=training_length,\n",
    "              output_dim=30,\n",
    "              trainable=True,\n",
    "              mask_zero=True))\n",
    "model.add(Masking(mask_value=0.0))\n",
    "model.add(SimpleRNN(64))\n",
    "model.add(Dense(64, activation='relu'))\n",
    "model.add(Dropout(0.2))\n",
    "model.add(Dense(5, activation='softmax'))\n",
    "model.summary()"
   ]
  },
  {
   "cell_type": "code",
   "execution_count": 19,
   "metadata": {
    "id": "iEqBEo-VQ6k5"
   },
   "outputs": [],
   "source": [
    "model.compile(loss='categorical_crossentropy',\n",
    "              optimizer='adam',\n",
    "              metrics=['accuracy', tfa.metrics.F1Score(num_classes=num_classes)])"
   ]
  },
  {
   "cell_type": "code",
   "execution_count": 20,
   "metadata": {
    "colab": {
     "base_uri": "https://localhost:8080/"
    },
    "id": "S1oGJ_u6RH35",
    "outputId": "897a9efc-8d31-49f7-b21f-41d6d0d857d2"
   },
   "outputs": [
    {
     "name": "stdout",
     "output_type": "stream",
     "text": [
      "Epoch 1/20\n",
      "25/25 [==============================] - 7s 203ms/step - loss: 1.1234 - accuracy: 0.6830 - f1_score: 0.1850 - val_loss: 0.9707 - val_accuracy: 0.7011 - val_f1_score: 0.1649\n",
      "Epoch 2/20\n",
      "25/25 [==============================] - 4s 175ms/step - loss: 0.9140 - accuracy: 0.7084 - f1_score: 0.1962 - val_loss: 0.8525 - val_accuracy: 0.7155 - val_f1_score: 0.2633\n",
      "Epoch 3/20\n",
      "25/25 [==============================] - 4s 174ms/step - loss: 0.7801 - accuracy: 0.7425 - f1_score: 0.2754 - val_loss: 0.7652 - val_accuracy: 0.7271 - val_f1_score: 0.2555\n",
      "Epoch 4/20\n",
      "25/25 [==============================] - 5s 180ms/step - loss: 0.6936 - accuracy: 0.7680 - f1_score: 0.3012 - val_loss: 0.7354 - val_accuracy: 0.7329 - val_f1_score: 0.2750\n",
      "Epoch 5/20\n",
      "25/25 [==============================] - 4s 179ms/step - loss: 0.6193 - accuracy: 0.7855 - f1_score: 0.3323 - val_loss: 0.7197 - val_accuracy: 0.7502 - val_f1_score: 0.3069\n",
      "Epoch 6/20\n",
      "25/25 [==============================] - 5s 182ms/step - loss: 0.5563 - accuracy: 0.8036 - f1_score: 0.3735 - val_loss: 0.7337 - val_accuracy: 0.7480 - val_f1_score: 0.3144\n",
      "Epoch 7/20\n",
      "25/25 [==============================] - 4s 180ms/step - loss: 0.5143 - accuracy: 0.8216 - f1_score: 0.4310 - val_loss: 0.7336 - val_accuracy: 0.7531 - val_f1_score: 0.3414\n",
      "Epoch 8/20\n",
      "25/25 [==============================] - 4s 179ms/step - loss: 0.4469 - accuracy: 0.8492 - f1_score: 0.5451 - val_loss: 0.7537 - val_accuracy: 0.7538 - val_f1_score: 0.3487\n",
      "Epoch 9/20\n",
      "25/25 [==============================] - 4s 179ms/step - loss: 0.3922 - accuracy: 0.8754 - f1_score: 0.6494 - val_loss: 0.7917 - val_accuracy: 0.7415 - val_f1_score: 0.3500\n",
      "Epoch 10/20\n",
      "25/25 [==============================] - 4s 178ms/step - loss: 0.3365 - accuracy: 0.9038 - f1_score: 0.7577 - val_loss: 0.8242 - val_accuracy: 0.7437 - val_f1_score: 0.3581\n",
      "Epoch 11/20\n",
      "25/25 [==============================] - 4s 178ms/step - loss: 0.2916 - accuracy: 0.9203 - f1_score: 0.8179 - val_loss: 0.8643 - val_accuracy: 0.7451 - val_f1_score: 0.3791\n",
      "Epoch 12/20\n",
      "25/25 [==============================] - 4s 179ms/step - loss: 0.2577 - accuracy: 0.9289 - f1_score: 0.8513 - val_loss: 0.9132 - val_accuracy: 0.7350 - val_f1_score: 0.3719\n",
      "Epoch 13/20\n",
      "25/25 [==============================] - 4s 178ms/step - loss: 0.2387 - accuracy: 0.9357 - f1_score: 0.8709 - val_loss: 0.9467 - val_accuracy: 0.7336 - val_f1_score: 0.3974\n",
      "Epoch 14/20\n",
      "25/25 [==============================] - 4s 179ms/step - loss: 0.2153 - accuracy: 0.9395 - f1_score: 0.8860 - val_loss: 0.9768 - val_accuracy: 0.7401 - val_f1_score: 0.3858\n",
      "Epoch 15/20\n",
      "25/25 [==============================] - 4s 179ms/step - loss: 0.2005 - accuracy: 0.9448 - f1_score: 0.8995 - val_loss: 1.0348 - val_accuracy: 0.7394 - val_f1_score: 0.3790\n",
      "Epoch 16/20\n",
      "25/25 [==============================] - 4s 180ms/step - loss: 0.1911 - accuracy: 0.9469 - f1_score: 0.9071 - val_loss: 1.0462 - val_accuracy: 0.7357 - val_f1_score: 0.3915\n",
      "Epoch 17/20\n",
      "25/25 [==============================] - 4s 179ms/step - loss: 0.1777 - accuracy: 0.9502 - f1_score: 0.9162 - val_loss: 1.0964 - val_accuracy: 0.7307 - val_f1_score: 0.3786\n",
      "Epoch 18/20\n",
      "25/25 [==============================] - 5s 189ms/step - loss: 0.1687 - accuracy: 0.9531 - f1_score: 0.9231 - val_loss: 1.1252 - val_accuracy: 0.7292 - val_f1_score: 0.3715\n",
      "Epoch 19/20\n",
      "25/25 [==============================] - 4s 178ms/step - loss: 0.1622 - accuracy: 0.9539 - f1_score: 0.9236 - val_loss: 1.1622 - val_accuracy: 0.7321 - val_f1_score: 0.3893\n",
      "Epoch 20/20\n",
      "25/25 [==============================] - 5s 205ms/step - loss: 0.1589 - accuracy: 0.9561 - f1_score: 0.9298 - val_loss: 1.1850 - val_accuracy: 0.7307 - val_f1_score: 0.3780\n"
     ]
    }
   ],
   "source": [
    "history = model.fit(X_train, y_train,\n",
    "                    batch_size=batch_size,\n",
    "                    epochs=epochs,\n",
    "                    verbose=1,\n",
    "                    validation_split=0.1)"
   ]
  },
  {
   "cell_type": "code",
   "execution_count": 21,
   "metadata": {
    "colab": {
     "base_uri": "https://localhost:8080/"
    },
    "id": "pxNUc9TURh9i",
    "outputId": "c83e1620-1e8a-4e20-83f2-a922f7520f95"
   },
   "outputs": [
    {
     "name": "stdout",
     "output_type": "stream",
     "text": [
      "14/14 [==============================] - 1s 41ms/step - loss: 1.1393 - accuracy: 0.7364 - f1_score: 0.3651\n"
     ]
    }
   ],
   "source": [
    "score_srnn= model.evaluate(X_test, y_test, batch_size=batch_size, verbose=1)"
   ]
  },
  {
   "cell_type": "markdown",
   "metadata": {
    "id": "miC4gZh6Roa8"
   },
   "source": [
    "#### LSTM"
   ]
  },
  {
   "cell_type": "code",
   "execution_count": 22,
   "metadata": {
    "colab": {
     "base_uri": "https://localhost:8080/"
    },
    "id": "t2w1WE5ERqYl",
    "outputId": "ba364e6d-ebd9-4c0b-ebf9-19a51ae6977e"
   },
   "outputs": [
    {
     "name": "stdout",
     "output_type": "stream",
     "text": [
      "WARNING:tensorflow:Layer lstm will not use cuDNN kernels since it doesn't meet the criteria. It will use a generic GPU kernel as fallback when running on GPU.\n"
     ]
    },
    {
     "name": "stderr",
     "output_type": "stream",
     "text": [
      "WARNING:tensorflow:Layer lstm will not use cuDNN kernels since it doesn't meet the criteria. It will use a generic GPU kernel as fallback when running on GPU.\n"
     ]
    },
    {
     "name": "stdout",
     "output_type": "stream",
     "text": [
      "Model: \"sequential_2\"\n",
      "_________________________________________________________________\n",
      " Layer (type)                Output Shape              Param #   \n",
      "=================================================================\n",
      " embedding_2 (Embedding)     (None, 113, 30)           308790    \n",
      "                                                                 \n",
      " masking_1 (Masking)         (None, 113, 30)           0         \n",
      "                                                                 \n",
      " lstm (LSTM)                 (None, 64)                24320     \n",
      "                                                                 \n",
      " dense_4 (Dense)             (None, 64)                4160      \n",
      "                                                                 \n",
      " dropout_1 (Dropout)         (None, 64)                0         \n",
      "                                                                 \n",
      " dense_5 (Dense)             (None, 5)                 325       \n",
      "                                                                 \n",
      "=================================================================\n",
      "Total params: 337,595\n",
      "Trainable params: 337,595\n",
      "Non-trainable params: 0\n",
      "_________________________________________________________________\n"
     ]
    }
   ],
   "source": [
    "model = Sequential()\n",
    "\n",
    "model.add(Embedding(input_dim=word_count,\n",
    "              input_length=training_length,\n",
    "              output_dim=30,\n",
    "              trainable=True,\n",
    "              mask_zero=True))\n",
    "model.add(Masking(mask_value=0.0))\n",
    "model.add(LSTM(64, recurrent_dropout=0.2))\n",
    "model.add(Dense(64, activation='relu'))\n",
    "model.add(Dropout(0.2))\n",
    "model.add(Dense(5, activation='softmax'))\n",
    "model.summary()"
   ]
  },
  {
   "cell_type": "code",
   "execution_count": 23,
   "metadata": {
    "id": "ZCMoy8VqR_bd"
   },
   "outputs": [],
   "source": [
    "model.compile(loss='categorical_crossentropy',\n",
    "              optimizer='adam',\n",
    "              metrics=['accuracy', tfa.metrics.F1Score(num_classes=num_classes)])"
   ]
  },
  {
   "cell_type": "code",
   "execution_count": 24,
   "metadata": {
    "colab": {
     "base_uri": "https://localhost:8080/"
    },
    "id": "xM9bSsTJSFuz",
    "outputId": "c399c04f-c8d9-455a-f157-054a24fa96b7"
   },
   "outputs": [
    {
     "name": "stdout",
     "output_type": "stream",
     "text": [
      "Epoch 1/20\n",
      "25/25 [==============================] - 15s 506ms/step - loss: 1.2392 - accuracy: 0.6778 - f1_score: 0.1755 - val_loss: 0.9476 - val_accuracy: 0.7011 - val_f1_score: 0.1649\n",
      "Epoch 2/20\n",
      "25/25 [==============================] - 12s 481ms/step - loss: 0.8857 - accuracy: 0.7030 - f1_score: 0.1654 - val_loss: 0.8164 - val_accuracy: 0.7040 - val_f1_score: 0.1803\n",
      "Epoch 3/20\n",
      "25/25 [==============================] - 12s 481ms/step - loss: 0.7743 - accuracy: 0.7369 - f1_score: 0.2586 - val_loss: 0.7452 - val_accuracy: 0.7336 - val_f1_score: 0.2667\n",
      "Epoch 4/20\n",
      "25/25 [==============================] - 12s 477ms/step - loss: 0.6987 - accuracy: 0.7633 - f1_score: 0.2880 - val_loss: 0.7164 - val_accuracy: 0.7350 - val_f1_score: 0.2693\n",
      "Epoch 5/20\n",
      "25/25 [==============================] - 12s 482ms/step - loss: 0.6395 - accuracy: 0.7759 - f1_score: 0.3022 - val_loss: 0.7090 - val_accuracy: 0.7480 - val_f1_score: 0.2874\n",
      "Epoch 6/20\n",
      "25/25 [==============================] - 12s 477ms/step - loss: 0.5955 - accuracy: 0.7885 - f1_score: 0.3275 - val_loss: 0.7056 - val_accuracy: 0.7487 - val_f1_score: 0.3095\n",
      "Epoch 7/20\n",
      "25/25 [==============================] - 13s 543ms/step - loss: 0.5643 - accuracy: 0.8028 - f1_score: 0.3613 - val_loss: 0.7140 - val_accuracy: 0.7509 - val_f1_score: 0.3220\n",
      "Epoch 8/20\n",
      "25/25 [==============================] - 12s 480ms/step - loss: 0.5277 - accuracy: 0.8153 - f1_score: 0.3899 - val_loss: 0.7213 - val_accuracy: 0.7552 - val_f1_score: 0.3334\n",
      "Epoch 9/20\n",
      "25/25 [==============================] - 12s 481ms/step - loss: 0.4990 - accuracy: 0.8231 - f1_score: 0.4055 - val_loss: 0.7522 - val_accuracy: 0.7502 - val_f1_score: 0.3429\n",
      "Epoch 10/20\n",
      "25/25 [==============================] - 12s 480ms/step - loss: 0.4714 - accuracy: 0.8338 - f1_score: 0.4253 - val_loss: 0.7719 - val_accuracy: 0.7473 - val_f1_score: 0.3392\n",
      "Epoch 11/20\n",
      "25/25 [==============================] - 12s 486ms/step - loss: 0.4451 - accuracy: 0.8397 - f1_score: 0.4479 - val_loss: 0.8052 - val_accuracy: 0.7480 - val_f1_score: 0.3449\n",
      "Epoch 12/20\n",
      "25/25 [==============================] - 12s 479ms/step - loss: 0.4254 - accuracy: 0.8534 - f1_score: 0.5119 - val_loss: 0.8316 - val_accuracy: 0.7444 - val_f1_score: 0.3497\n",
      "Epoch 13/20\n",
      "25/25 [==============================] - 12s 478ms/step - loss: 0.4020 - accuracy: 0.8633 - f1_score: 0.5726 - val_loss: 0.8512 - val_accuracy: 0.7458 - val_f1_score: 0.3780\n",
      "Epoch 14/20\n",
      "25/25 [==============================] - 12s 481ms/step - loss: 0.3794 - accuracy: 0.8748 - f1_score: 0.6202 - val_loss: 0.9039 - val_accuracy: 0.7451 - val_f1_score: 0.3851\n",
      "Epoch 15/20\n",
      "25/25 [==============================] - 12s 476ms/step - loss: 0.3604 - accuracy: 0.8843 - f1_score: 0.6786 - val_loss: 0.9463 - val_accuracy: 0.7314 - val_f1_score: 0.3726\n",
      "Epoch 16/20\n",
      "25/25 [==============================] - 12s 479ms/step - loss: 0.3434 - accuracy: 0.8907 - f1_score: 0.7019 - val_loss: 0.9747 - val_accuracy: 0.7321 - val_f1_score: 0.4036\n",
      "Epoch 17/20\n",
      "25/25 [==============================] - 12s 478ms/step - loss: 0.3331 - accuracy: 0.8983 - f1_score: 0.7451 - val_loss: 1.0685 - val_accuracy: 0.7401 - val_f1_score: 0.3984\n",
      "Epoch 18/20\n",
      "25/25 [==============================] - 12s 476ms/step - loss: 0.3223 - accuracy: 0.8996 - f1_score: 0.7473 - val_loss: 1.0437 - val_accuracy: 0.7365 - val_f1_score: 0.3854\n",
      "Epoch 19/20\n",
      "25/25 [==============================] - 12s 485ms/step - loss: 0.3107 - accuracy: 0.9053 - f1_score: 0.7675 - val_loss: 1.1144 - val_accuracy: 0.7278 - val_f1_score: 0.3856\n",
      "Epoch 20/20\n",
      "25/25 [==============================] - 12s 484ms/step - loss: 0.2951 - accuracy: 0.9107 - f1_score: 0.7890 - val_loss: 1.1175 - val_accuracy: 0.7249 - val_f1_score: 0.3769\n"
     ]
    }
   ],
   "source": [
    "history = model.fit(X_train, y_train,\n",
    "                    batch_size=batch_size,\n",
    "                    epochs=epochs,\n",
    "                    verbose=1,\n",
    "                    validation_split=0.1)"
   ]
  },
  {
   "cell_type": "code",
   "execution_count": 25,
   "metadata": {
    "colab": {
     "base_uri": "https://localhost:8080/"
    },
    "id": "wYZmuZtDTKGE",
    "outputId": "7e5d3dc2-1513-4062-da5b-9862d29a093f"
   },
   "outputs": [
    {
     "name": "stdout",
     "output_type": "stream",
     "text": [
      "14/14 [==============================] - 2s 112ms/step - loss: 1.1751 - accuracy: 0.7413 - f1_score: 0.3910\n"
     ]
    }
   ],
   "source": [
    "score_lstm = model.evaluate(X_test, y_test, batch_size=batch_size, verbose=1)"
   ]
  },
  {
   "cell_type": "markdown",
   "metadata": {
    "id": "8M7PK1XlTPEy"
   },
   "source": [
    "#### GRU"
   ]
  },
  {
   "cell_type": "code",
   "execution_count": 26,
   "metadata": {
    "colab": {
     "base_uri": "https://localhost:8080/"
    },
    "id": "BR-bR05OTQ2p",
    "outputId": "c1732388-2012-4add-b295-717e6ddee4bb"
   },
   "outputs": [
    {
     "name": "stdout",
     "output_type": "stream",
     "text": [
      "WARNING:tensorflow:Layer gru will not use cuDNN kernels since it doesn't meet the criteria. It will use a generic GPU kernel as fallback when running on GPU.\n"
     ]
    },
    {
     "name": "stderr",
     "output_type": "stream",
     "text": [
      "WARNING:tensorflow:Layer gru will not use cuDNN kernels since it doesn't meet the criteria. It will use a generic GPU kernel as fallback when running on GPU.\n"
     ]
    },
    {
     "name": "stdout",
     "output_type": "stream",
     "text": [
      "Model: \"sequential_3\"\n",
      "_________________________________________________________________\n",
      " Layer (type)                Output Shape              Param #   \n",
      "=================================================================\n",
      " embedding_3 (Embedding)     (None, 113, 30)           308790    \n",
      "                                                                 \n",
      " masking_2 (Masking)         (None, 113, 30)           0         \n",
      "                                                                 \n",
      " gru (GRU)                   (None, 64)                18432     \n",
      "                                                                 \n",
      " dense_6 (Dense)             (None, 64)                4160      \n",
      "                                                                 \n",
      " dropout_2 (Dropout)         (None, 64)                0         \n",
      "                                                                 \n",
      " dense_7 (Dense)             (None, 5)                 325       \n",
      "                                                                 \n",
      "=================================================================\n",
      "Total params: 331,707\n",
      "Trainable params: 331,707\n",
      "Non-trainable params: 0\n",
      "_________________________________________________________________\n"
     ]
    }
   ],
   "source": [
    "model = Sequential()\n",
    "\n",
    "model.add(Embedding(input_dim=word_count,\n",
    "              input_length=training_length,\n",
    "              output_dim=30,\n",
    "              trainable=True,\n",
    "              mask_zero=True))\n",
    "model.add(Masking(mask_value=0.0))\n",
    "model.add(GRU(64,recurrent_dropout=0.2))\n",
    "model.add(Dense(64, activation='relu'))\n",
    "model.add(Dropout(0.2))\n",
    "model.add(Dense(5, activation='softmax'))\n",
    "model.summary()"
   ]
  },
  {
   "cell_type": "code",
   "execution_count": 27,
   "metadata": {
    "id": "iVZc7350TauF"
   },
   "outputs": [],
   "source": [
    "model.compile(loss='categorical_crossentropy',\n",
    "              optimizer='adam',\n",
    "              metrics=['accuracy', tfa.metrics.F1Score(num_classes=num_classes)])"
   ]
  },
  {
   "cell_type": "code",
   "execution_count": 28,
   "metadata": {
    "colab": {
     "base_uri": "https://localhost:8080/"
    },
    "id": "YWpY4feMTgKM",
    "outputId": "8b6bd7c6-ac6b-4555-afe2-835e849b5e9f"
   },
   "outputs": [
    {
     "name": "stdout",
     "output_type": "stream",
     "text": [
      "Epoch 1/20\n",
      "25/25 [==============================] - 14s 454ms/step - loss: 1.3272 - accuracy: 0.6732 - f1_score: 0.1794 - val_loss: 0.9789 - val_accuracy: 0.7011 - val_f1_score: 0.1649\n",
      "Epoch 2/20\n",
      "25/25 [==============================] - 11s 443ms/step - loss: 0.8690 - accuracy: 0.7030 - f1_score: 0.1651 - val_loss: 0.8134 - val_accuracy: 0.7011 - val_f1_score: 0.1649\n",
      "Epoch 3/20\n",
      "25/25 [==============================] - 11s 428ms/step - loss: 0.7560 - accuracy: 0.7205 - f1_score: 0.2261 - val_loss: 0.7489 - val_accuracy: 0.7155 - val_f1_score: 0.2348\n",
      "Epoch 4/20\n",
      "25/25 [==============================] - 11s 433ms/step - loss: 0.6811 - accuracy: 0.7661 - f1_score: 0.2892 - val_loss: 0.7268 - val_accuracy: 0.7336 - val_f1_score: 0.2683\n",
      "Epoch 5/20\n",
      "25/25 [==============================] - 11s 431ms/step - loss: 0.6253 - accuracy: 0.7802 - f1_score: 0.3027 - val_loss: 0.7201 - val_accuracy: 0.7422 - val_f1_score: 0.2780\n",
      "Epoch 6/20\n",
      "25/25 [==============================] - 11s 450ms/step - loss: 0.5768 - accuracy: 0.7929 - f1_score: 0.3307 - val_loss: 0.7219 - val_accuracy: 0.7480 - val_f1_score: 0.3083\n",
      "Epoch 7/20\n",
      "25/25 [==============================] - 11s 429ms/step - loss: 0.5339 - accuracy: 0.8082 - f1_score: 0.3704 - val_loss: 0.7375 - val_accuracy: 0.7480 - val_f1_score: 0.3270\n",
      "Epoch 8/20\n",
      "25/25 [==============================] - 11s 430ms/step - loss: 0.4978 - accuracy: 0.8243 - f1_score: 0.4052 - val_loss: 0.7620 - val_accuracy: 0.7502 - val_f1_score: 0.3326\n",
      "Epoch 9/20\n",
      "25/25 [==============================] - 12s 470ms/step - loss: 0.4714 - accuracy: 0.8320 - f1_score: 0.4221 - val_loss: 0.7918 - val_accuracy: 0.7466 - val_f1_score: 0.3362\n",
      "Epoch 10/20\n",
      "25/25 [==============================] - 11s 438ms/step - loss: 0.4450 - accuracy: 0.8421 - f1_score: 0.4415 - val_loss: 0.8212 - val_accuracy: 0.7430 - val_f1_score: 0.3337\n",
      "Epoch 11/20\n",
      "25/25 [==============================] - 11s 436ms/step - loss: 0.4241 - accuracy: 0.8504 - f1_score: 0.4826 - val_loss: 0.8588 - val_accuracy: 0.7365 - val_f1_score: 0.3351\n",
      "Epoch 12/20\n",
      "25/25 [==============================] - 11s 439ms/step - loss: 0.4039 - accuracy: 0.8565 - f1_score: 0.5391 - val_loss: 0.9099 - val_accuracy: 0.7336 - val_f1_score: 0.3342\n",
      "Epoch 13/20\n",
      "25/25 [==============================] - 11s 439ms/step - loss: 0.3828 - accuracy: 0.8702 - f1_score: 0.6218 - val_loss: 0.9572 - val_accuracy: 0.7249 - val_f1_score: 0.3302\n",
      "Epoch 14/20\n",
      "25/25 [==============================] - 11s 434ms/step - loss: 0.3613 - accuracy: 0.8828 - f1_score: 0.6945 - val_loss: 0.9890 - val_accuracy: 0.7220 - val_f1_score: 0.3626\n",
      "Epoch 15/20\n",
      "25/25 [==============================] - 11s 432ms/step - loss: 0.3462 - accuracy: 0.8919 - f1_score: 0.7362 - val_loss: 1.0619 - val_accuracy: 0.7264 - val_f1_score: 0.3514\n",
      "Epoch 16/20\n",
      "25/25 [==============================] - 11s 425ms/step - loss: 0.3214 - accuracy: 0.9015 - f1_score: 0.7735 - val_loss: 1.0818 - val_accuracy: 0.7184 - val_f1_score: 0.3663\n",
      "Epoch 17/20\n",
      "25/25 [==============================] - 11s 436ms/step - loss: 0.3039 - accuracy: 0.9067 - f1_score: 0.7920 - val_loss: 1.1520 - val_accuracy: 0.7170 - val_f1_score: 0.3496\n",
      "Epoch 18/20\n",
      "25/25 [==============================] - 11s 429ms/step - loss: 0.2862 - accuracy: 0.9139 - f1_score: 0.8134 - val_loss: 1.1578 - val_accuracy: 0.7220 - val_f1_score: 0.3711\n",
      "Epoch 19/20\n",
      "25/25 [==============================] - 11s 428ms/step - loss: 0.2757 - accuracy: 0.9169 - f1_score: 0.8253 - val_loss: 1.2012 - val_accuracy: 0.7177 - val_f1_score: 0.3697\n",
      "Epoch 20/20\n",
      "25/25 [==============================] - 11s 424ms/step - loss: 0.2610 - accuracy: 0.9207 - f1_score: 0.8375 - val_loss: 1.2232 - val_accuracy: 0.7076 - val_f1_score: 0.3572\n"
     ]
    }
   ],
   "source": [
    "history = model.fit(X_train, y_train,\n",
    "                    batch_size=batch_size,\n",
    "                    epochs=epochs,\n",
    "                    verbose=1,\n",
    "                    validation_split=0.1)"
   ]
  },
  {
   "cell_type": "code",
   "execution_count": 29,
   "metadata": {
    "colab": {
     "base_uri": "https://localhost:8080/"
    },
    "id": "QbiSt3r0UeJu",
    "outputId": "2afe056e-f0a7-4107-8044-58a06609d9d0"
   },
   "outputs": [
    {
     "name": "stdout",
     "output_type": "stream",
     "text": [
      "14/14 [==============================] - 1s 39ms/step - loss: 1.2427 - accuracy: 0.7314 - f1_score: 0.3782\n"
     ]
    }
   ],
   "source": [
    "score_gru= model.evaluate(X_test, y_test, batch_size=batch_size, verbose=1)"
   ]
  },
  {
   "cell_type": "code",
   "execution_count": 30,
   "metadata": {
    "colab": {
     "base_uri": "https://localhost:8080/",
     "height": 143
    },
    "id": "LbiOq6dlU187",
    "outputId": "c679f6ea-c2bf-4cb3-850b-b550da1f0da8"
   },
   "outputs": [
    {
     "data": {
      "text/html": [
       "\n",
       "  <div id=\"df-de16a6ce-0028-4673-9251-a944bbe8e1e4\">\n",
       "    <div class=\"colab-df-container\">\n",
       "      <div>\n",
       "<style scoped>\n",
       "    .dataframe tbody tr th:only-of-type {\n",
       "        vertical-align: middle;\n",
       "    }\n",
       "\n",
       "    .dataframe tbody tr th {\n",
       "        vertical-align: top;\n",
       "    }\n",
       "\n",
       "    .dataframe thead th {\n",
       "        text-align: right;\n",
       "    }\n",
       "</style>\n",
       "<table border=\"1\" class=\"dataframe\">\n",
       "  <thead>\n",
       "    <tr style=\"text-align: right;\">\n",
       "      <th></th>\n",
       "      <th>model</th>\n",
       "      <th>f1_score</th>\n",
       "    </tr>\n",
       "  </thead>\n",
       "  <tbody>\n",
       "    <tr>\n",
       "      <th>1</th>\n",
       "      <td>LSTM</td>\n",
       "      <td>0.741273</td>\n",
       "    </tr>\n",
       "    <tr>\n",
       "      <th>0</th>\n",
       "      <td>SimpleRNN</td>\n",
       "      <td>0.736433</td>\n",
       "    </tr>\n",
       "    <tr>\n",
       "      <th>2</th>\n",
       "      <td>GRU</td>\n",
       "      <td>0.731446</td>\n",
       "    </tr>\n",
       "  </tbody>\n",
       "</table>\n",
       "</div>\n",
       "      <button class=\"colab-df-convert\" onclick=\"convertToInteractive('df-de16a6ce-0028-4673-9251-a944bbe8e1e4')\"\n",
       "              title=\"Convert this dataframe to an interactive table.\"\n",
       "              style=\"display:none;\">\n",
       "        \n",
       "  <svg xmlns=\"http://www.w3.org/2000/svg\" height=\"24px\"viewBox=\"0 0 24 24\"\n",
       "       width=\"24px\">\n",
       "    <path d=\"M0 0h24v24H0V0z\" fill=\"none\"/>\n",
       "    <path d=\"M18.56 5.44l.94 2.06.94-2.06 2.06-.94-2.06-.94-.94-2.06-.94 2.06-2.06.94zm-11 1L8.5 8.5l.94-2.06 2.06-.94-2.06-.94L8.5 2.5l-.94 2.06-2.06.94zm10 10l.94 2.06.94-2.06 2.06-.94-2.06-.94-.94-2.06-.94 2.06-2.06.94z\"/><path d=\"M17.41 7.96l-1.37-1.37c-.4-.4-.92-.59-1.43-.59-.52 0-1.04.2-1.43.59L10.3 9.45l-7.72 7.72c-.78.78-.78 2.05 0 2.83L4 21.41c.39.39.9.59 1.41.59.51 0 1.02-.2 1.41-.59l7.78-7.78 2.81-2.81c.8-.78.8-2.07 0-2.86zM5.41 20L4 18.59l7.72-7.72 1.47 1.35L5.41 20z\"/>\n",
       "  </svg>\n",
       "      </button>\n",
       "      \n",
       "  <style>\n",
       "    .colab-df-container {\n",
       "      display:flex;\n",
       "      flex-wrap:wrap;\n",
       "      gap: 12px;\n",
       "    }\n",
       "\n",
       "    .colab-df-convert {\n",
       "      background-color: #E8F0FE;\n",
       "      border: none;\n",
       "      border-radius: 50%;\n",
       "      cursor: pointer;\n",
       "      display: none;\n",
       "      fill: #1967D2;\n",
       "      height: 32px;\n",
       "      padding: 0 0 0 0;\n",
       "      width: 32px;\n",
       "    }\n",
       "\n",
       "    .colab-df-convert:hover {\n",
       "      background-color: #E2EBFA;\n",
       "      box-shadow: 0px 1px 2px rgba(60, 64, 67, 0.3), 0px 1px 3px 1px rgba(60, 64, 67, 0.15);\n",
       "      fill: #174EA6;\n",
       "    }\n",
       "\n",
       "    [theme=dark] .colab-df-convert {\n",
       "      background-color: #3B4455;\n",
       "      fill: #D2E3FC;\n",
       "    }\n",
       "\n",
       "    [theme=dark] .colab-df-convert:hover {\n",
       "      background-color: #434B5C;\n",
       "      box-shadow: 0px 1px 3px 1px rgba(0, 0, 0, 0.15);\n",
       "      filter: drop-shadow(0px 1px 2px rgba(0, 0, 0, 0.3));\n",
       "      fill: #FFFFFF;\n",
       "    }\n",
       "  </style>\n",
       "\n",
       "      <script>\n",
       "        const buttonEl =\n",
       "          document.querySelector('#df-de16a6ce-0028-4673-9251-a944bbe8e1e4 button.colab-df-convert');\n",
       "        buttonEl.style.display =\n",
       "          google.colab.kernel.accessAllowed ? 'block' : 'none';\n",
       "\n",
       "        async function convertToInteractive(key) {\n",
       "          const element = document.querySelector('#df-de16a6ce-0028-4673-9251-a944bbe8e1e4');\n",
       "          const dataTable =\n",
       "            await google.colab.kernel.invokeFunction('convertToInteractive',\n",
       "                                                     [key], {});\n",
       "          if (!dataTable) return;\n",
       "\n",
       "          const docLinkHtml = 'Like what you see? Visit the ' +\n",
       "            '<a target=\"_blank\" href=https://colab.research.google.com/notebooks/data_table.ipynb>data table notebook</a>'\n",
       "            + ' to learn more about interactive tables.';\n",
       "          element.innerHTML = '';\n",
       "          dataTable['output_type'] = 'display_data';\n",
       "          await google.colab.output.renderOutput(dataTable, element);\n",
       "          const docLink = document.createElement('div');\n",
       "          docLink.innerHTML = docLinkHtml;\n",
       "          element.appendChild(docLink);\n",
       "        }\n",
       "      </script>\n",
       "    </div>\n",
       "  </div>\n",
       "  "
      ],
      "text/plain": [
       "       model  f1_score\n",
       "1       LSTM  0.741273\n",
       "0  SimpleRNN  0.736433\n",
       "2        GRU  0.731446"
      ]
     },
     "execution_count": 30,
     "metadata": {},
     "output_type": "execute_result"
    }
   ],
   "source": [
    "result_RNN = pd.DataFrame({'model': ['SimpleRNN', 'LSTM', 'GRU'], 'f1_score': [score_srnn[1], score_lstm[1], score_gru[1]]})\n",
    "result_RNN.sort_values(by='f1_score', ascending=False)"
   ]
  },
  {
   "cell_type": "markdown",
   "metadata": {
    "id": "NtNtb48bU8BX"
   },
   "source": [
    "#### LSTM работает лучше всех, GRU - хуже всех"
   ]
  },
  {
   "cell_type": "markdown",
   "metadata": {
    "id": "W0yASDt2Vu2T"
   },
   "source": [
    "#### CNN -> RNN"
   ]
  },
  {
   "cell_type": "code",
   "execution_count": 31,
   "metadata": {
    "colab": {
     "base_uri": "https://localhost:8080/"
    },
    "id": "0jx3rZWtVV_s",
    "outputId": "055e573c-82a3-48e2-a5ef-a33cd7145b68"
   },
   "outputs": [
    {
     "name": "stdout",
     "output_type": "stream",
     "text": [
      "WARNING:tensorflow:Layer lstm_1 will not use cuDNN kernels since it doesn't meet the criteria. It will use a generic GPU kernel as fallback when running on GPU.\n"
     ]
    },
    {
     "name": "stderr",
     "output_type": "stream",
     "text": [
      "WARNING:tensorflow:Layer lstm_1 will not use cuDNN kernels since it doesn't meet the criteria. It will use a generic GPU kernel as fallback when running on GPU.\n"
     ]
    },
    {
     "name": "stdout",
     "output_type": "stream",
     "text": [
      "Model: \"sequential_4\"\n",
      "_________________________________________________________________\n",
      " Layer (type)                Output Shape              Param #   \n",
      "=================================================================\n",
      " embedding_4 (Embedding)     (None, 113, 30)           308790    \n",
      "                                                                 \n",
      " masking_3 (Masking)         (None, 113, 30)           0         \n",
      "                                                                 \n",
      " conv1d_1 (Conv1D)           (None, 111, 128)          11648     \n",
      "                                                                 \n",
      " activation_1 (Activation)   (None, 111, 128)          0         \n",
      "                                                                 \n",
      " lstm_1 (LSTM)               (None, 64)                49408     \n",
      "                                                                 \n",
      " dense_8 (Dense)             (None, 32)                2080      \n",
      "                                                                 \n",
      " dropout_3 (Dropout)         (None, 32)                0         \n",
      "                                                                 \n",
      " dense_9 (Dense)             (None, 5)                 165       \n",
      "                                                                 \n",
      "=================================================================\n",
      "Total params: 372,091\n",
      "Trainable params: 372,091\n",
      "Non-trainable params: 0\n",
      "_________________________________________________________________\n"
     ]
    }
   ],
   "source": [
    "model = Sequential()\n",
    "\n",
    "model.add(Embedding(input_dim=word_count,\n",
    "              input_length=training_length,\n",
    "              output_dim=30,\n",
    "              trainable=True,\n",
    "              mask_zero=True))\n",
    "model.add(Masking(mask_value=0.0))\n",
    "model.add(Conv1D(128, 3))\n",
    "model.add(Activation(\"relu\"))\n",
    "model.add(LSTM(64,recurrent_dropout=0.2))\n",
    "model.add(Dense(32, activation='relu'))\n",
    "model.add(Dropout(0.2))\n",
    "model.add(Dense(5, activation='softmax'))\n",
    "model.summary()"
   ]
  },
  {
   "cell_type": "code",
   "execution_count": 33,
   "metadata": {
    "id": "eEH4PpzVWGkF"
   },
   "outputs": [],
   "source": [
    "model.compile(loss='categorical_crossentropy',\n",
    "              optimizer='adam',\n",
    "              metrics=['accuracy', tfa.metrics.F1Score(num_classes=num_classes)])"
   ]
  },
  {
   "cell_type": "code",
   "execution_count": 35,
   "metadata": {
    "colab": {
     "base_uri": "https://localhost:8080/"
    },
    "id": "pqX6RSm3WOft",
    "outputId": "f697fea7-3736-44a6-81bd-281f0ea94cfb"
   },
   "outputs": [
    {
     "name": "stdout",
     "output_type": "stream",
     "text": [
      "CPU times: user 3 µs, sys: 0 ns, total: 3 µs\n",
      "Wall time: 7.87 µs\n",
      "Epoch 1/20\n",
      "25/25 [==============================] - 11s 430ms/step - loss: 0.7312 - accuracy: 0.7586 - f1_score: 0.2848 - val_loss: 0.7293 - val_accuracy: 0.7394 - val_f1_score: 0.2731\n",
      "Epoch 2/20\n",
      "25/25 [==============================] - 11s 430ms/step - loss: 0.6446 - accuracy: 0.7768 - f1_score: 0.3023 - val_loss: 0.7209 - val_accuracy: 0.7430 - val_f1_score: 0.2784\n",
      "Epoch 3/20\n",
      "25/25 [==============================] - 11s 424ms/step - loss: 0.5827 - accuracy: 0.7913 - f1_score: 0.3308 - val_loss: 0.7290 - val_accuracy: 0.7545 - val_f1_score: 0.3287\n",
      "Epoch 4/20\n",
      "25/25 [==============================] - 12s 475ms/step - loss: 0.5368 - accuracy: 0.8104 - f1_score: 0.3820 - val_loss: 0.7382 - val_accuracy: 0.7495 - val_f1_score: 0.3282\n",
      "Epoch 5/20\n",
      "25/25 [==============================] - 11s 431ms/step - loss: 0.4962 - accuracy: 0.8271 - f1_score: 0.4259 - val_loss: 0.7654 - val_accuracy: 0.7437 - val_f1_score: 0.3570\n",
      "Epoch 6/20\n",
      "25/25 [==============================] - 11s 431ms/step - loss: 0.4591 - accuracy: 0.8390 - f1_score: 0.4816 - val_loss: 0.7930 - val_accuracy: 0.7372 - val_f1_score: 0.3657\n",
      "Epoch 7/20\n",
      "25/25 [==============================] - 11s 425ms/step - loss: 0.4249 - accuracy: 0.8565 - f1_score: 0.5826 - val_loss: 0.8417 - val_accuracy: 0.7372 - val_f1_score: 0.3929\n",
      "Epoch 8/20\n",
      "25/25 [==============================] - 11s 429ms/step - loss: 0.3981 - accuracy: 0.8677 - f1_score: 0.6246 - val_loss: 0.8787 - val_accuracy: 0.7177 - val_f1_score: 0.3768\n",
      "Epoch 9/20\n",
      "25/25 [==============================] - 11s 429ms/step - loss: 0.3793 - accuracy: 0.8748 - f1_score: 0.6512 - val_loss: 0.9236 - val_accuracy: 0.7206 - val_f1_score: 0.3965\n",
      "Epoch 10/20\n",
      "25/25 [==============================] - 11s 424ms/step - loss: 0.3629 - accuracy: 0.8793 - f1_score: 0.6695 - val_loss: 0.9465 - val_accuracy: 0.7300 - val_f1_score: 0.4045\n",
      "Epoch 11/20\n",
      "25/25 [==============================] - 11s 425ms/step - loss: 0.3518 - accuracy: 0.8836 - f1_score: 0.6862 - val_loss: 0.9873 - val_accuracy: 0.7227 - val_f1_score: 0.3895\n",
      "Epoch 12/20\n",
      "25/25 [==============================] - 11s 425ms/step - loss: 0.3356 - accuracy: 0.8882 - f1_score: 0.6976 - val_loss: 1.0058 - val_accuracy: 0.7199 - val_f1_score: 0.4015\n",
      "Epoch 13/20\n",
      "25/25 [==============================] - 11s 428ms/step - loss: 0.3179 - accuracy: 0.8995 - f1_score: 0.7368 - val_loss: 1.0779 - val_accuracy: 0.7227 - val_f1_score: 0.3840\n",
      "Epoch 14/20\n",
      "25/25 [==============================] - 11s 431ms/step - loss: 0.3085 - accuracy: 0.9004 - f1_score: 0.7457 - val_loss: 1.0794 - val_accuracy: 0.7242 - val_f1_score: 0.4196\n",
      "Epoch 15/20\n",
      "25/25 [==============================] - 11s 422ms/step - loss: 0.2966 - accuracy: 0.9062 - f1_score: 0.7645 - val_loss: 1.1069 - val_accuracy: 0.7177 - val_f1_score: 0.3994\n",
      "Epoch 16/20\n",
      "25/25 [==============================] - 11s 425ms/step - loss: 0.2816 - accuracy: 0.9153 - f1_score: 0.7957 - val_loss: 1.1714 - val_accuracy: 0.7264 - val_f1_score: 0.4194\n",
      "Epoch 17/20\n",
      "25/25 [==============================] - 11s 431ms/step - loss: 0.2712 - accuracy: 0.9182 - f1_score: 0.8031 - val_loss: 1.2296 - val_accuracy: 0.7126 - val_f1_score: 0.4013\n",
      "Epoch 18/20\n",
      "25/25 [==============================] - 11s 432ms/step - loss: 0.2611 - accuracy: 0.9227 - f1_score: 0.8188 - val_loss: 1.2569 - val_accuracy: 0.7134 - val_f1_score: 0.3972\n",
      "Epoch 19/20\n",
      "25/25 [==============================] - 11s 435ms/step - loss: 0.2534 - accuracy: 0.9235 - f1_score: 0.8227 - val_loss: 1.3278 - val_accuracy: 0.7162 - val_f1_score: 0.4131\n",
      "Epoch 20/20\n",
      "25/25 [==============================] - 11s 434ms/step - loss: 0.2427 - accuracy: 0.9281 - f1_score: 0.8439 - val_loss: 1.3399 - val_accuracy: 0.7148 - val_f1_score: 0.4106\n"
     ]
    }
   ],
   "source": [
    "%time\n",
    "\n",
    "history = model.fit(X_train, y_train,\n",
    "                    batch_size=batch_size,\n",
    "                    epochs=epochs,\n",
    "                    verbose=1,\n",
    "                    validation_split=0.1)"
   ]
  },
  {
   "cell_type": "code",
   "execution_count": 36,
   "metadata": {
    "colab": {
     "base_uri": "https://localhost:8080/"
    },
    "id": "GOg5JHeHXW3C",
    "outputId": "148e8ae9-422d-4c93-de85-84bec0b35814"
   },
   "outputs": [
    {
     "name": "stdout",
     "output_type": "stream",
     "text": [
      "14/14 [==============================] - 1s 51ms/step - loss: 1.3746 - accuracy: 0.7212 - f1_score: 0.3836\n"
     ]
    }
   ],
   "source": [
    "score_cnnrnn= model.evaluate(X_test, y_test, batch_size=batch_size, verbose=1)"
   ]
  },
  {
   "cell_type": "markdown",
   "metadata": {
    "id": "i_jbvCxtX0Fg"
   },
   "source": [
    "#### RNN -> CNN"
   ]
  },
  {
   "cell_type": "code",
   "execution_count": 38,
   "metadata": {
    "colab": {
     "base_uri": "https://localhost:8080/"
    },
    "id": "V3MCVyikX2k7",
    "outputId": "c05098f3-427d-4eea-ad52-9916cfd19c45"
   },
   "outputs": [
    {
     "name": "stdout",
     "output_type": "stream",
     "text": [
      "WARNING:tensorflow:Layer lstm_3 will not use cuDNN kernels since it doesn't meet the criteria. It will use a generic GPU kernel as fallback when running on GPU.\n"
     ]
    },
    {
     "name": "stderr",
     "output_type": "stream",
     "text": [
      "WARNING:tensorflow:Layer lstm_3 will not use cuDNN kernels since it doesn't meet the criteria. It will use a generic GPU kernel as fallback when running on GPU.\n"
     ]
    },
    {
     "name": "stdout",
     "output_type": "stream",
     "text": [
      "Model: \"sequential_6\"\n",
      "_________________________________________________________________\n",
      " Layer (type)                Output Shape              Param #   \n",
      "=================================================================\n",
      " embedding_6 (Embedding)     (None, 113, 30)           308790    \n",
      "                                                                 \n",
      " masking_5 (Masking)         (None, 113, 30)           0         \n",
      "                                                                 \n",
      " lstm_3 (LSTM)               (None, 113, 64)           24320     \n",
      "                                                                 \n",
      " conv1d_3 (Conv1D)           (None, 111, 64)           12352     \n",
      "                                                                 \n",
      " global_max_pooling1d_1 (Glo  (None, 64)               0         \n",
      " balMaxPooling1D)                                                \n",
      "                                                                 \n",
      " dense_10 (Dense)            (None, 32)                2080      \n",
      "                                                                 \n",
      " dropout_4 (Dropout)         (None, 32)                0         \n",
      "                                                                 \n",
      " dense_11 (Dense)            (None, 5)                 165       \n",
      "                                                                 \n",
      "=================================================================\n",
      "Total params: 347,707\n",
      "Trainable params: 347,707\n",
      "Non-trainable params: 0\n",
      "_________________________________________________________________\n"
     ]
    }
   ],
   "source": [
    "model = Sequential()\n",
    "\n",
    "model.add(Embedding(input_dim=word_count,\n",
    "              input_length=training_length,\n",
    "              output_dim=30,\n",
    "              trainable=True,\n",
    "              mask_zero=True))\n",
    "model.add(Masking(mask_value=0.0))\n",
    "model.add(LSTM(64,recurrent_dropout=0.2, return_sequences=True))\n",
    "model.add(Conv1D(64, 3))\n",
    "model.add(GlobalMaxPool1D())\n",
    "model.add(Dense(32, activation='relu'))\n",
    "model.add(Dropout(0.2))\n",
    "model.add(Dense(5, activation='softmax'))\n",
    "model.summary()"
   ]
  },
  {
   "cell_type": "code",
   "execution_count": 39,
   "metadata": {
    "id": "T5atcgAUYSSR"
   },
   "outputs": [],
   "source": [
    "model.compile(loss='categorical_crossentropy',\n",
    "              optimizer='adam',\n",
    "              metrics=['accuracy', tfa.metrics.F1Score(num_classes=num_classes)])"
   ]
  },
  {
   "cell_type": "code",
   "execution_count": 40,
   "metadata": {
    "colab": {
     "base_uri": "https://localhost:8080/"
    },
    "id": "b1E3tExzYXyd",
    "outputId": "3097826b-eaa4-47ef-8c41-c27695ad6dc2"
   },
   "outputs": [
    {
     "name": "stdout",
     "output_type": "stream",
     "text": [
      "Epoch 1/20\n",
      "25/25 [==============================] - 56s 545ms/step - loss: 1.2495 - accuracy: 0.6798 - f1_score: 0.1723 - val_loss: 1.0248 - val_accuracy: 0.7011 - val_f1_score: 0.1649\n",
      "Epoch 2/20\n",
      "25/25 [==============================] - 14s 554ms/step - loss: 0.9954 - accuracy: 0.7030 - f1_score: 0.1651 - val_loss: 0.9195 - val_accuracy: 0.7011 - val_f1_score: 0.1649\n",
      "Epoch 3/20\n",
      "25/25 [==============================] - 12s 496ms/step - loss: 0.8273 - accuracy: 0.7260 - f1_score: 0.2512 - val_loss: 0.7706 - val_accuracy: 0.7329 - val_f1_score: 0.2684\n",
      "Epoch 4/20\n",
      "25/25 [==============================] - 12s 496ms/step - loss: 0.7306 - accuracy: 0.7579 - f1_score: 0.2867 - val_loss: 0.7335 - val_accuracy: 0.7401 - val_f1_score: 0.2752\n",
      "Epoch 5/20\n",
      "25/25 [==============================] - 12s 494ms/step - loss: 0.6820 - accuracy: 0.7706 - f1_score: 0.2988 - val_loss: 0.7230 - val_accuracy: 0.7379 - val_f1_score: 0.2734\n",
      "Epoch 6/20\n",
      "25/25 [==============================] - 13s 507ms/step - loss: 0.6384 - accuracy: 0.7817 - f1_score: 0.3181 - val_loss: 0.7105 - val_accuracy: 0.7386 - val_f1_score: 0.2998\n",
      "Epoch 7/20\n",
      "25/25 [==============================] - 13s 503ms/step - loss: 0.5984 - accuracy: 0.7945 - f1_score: 0.3521 - val_loss: 0.7113 - val_accuracy: 0.7451 - val_f1_score: 0.3197\n",
      "Epoch 8/20\n",
      "25/25 [==============================] - 12s 491ms/step - loss: 0.5645 - accuracy: 0.8058 - f1_score: 0.3779 - val_loss: 0.7138 - val_accuracy: 0.7444 - val_f1_score: 0.3276\n",
      "Epoch 9/20\n",
      "25/25 [==============================] - 12s 493ms/step - loss: 0.5335 - accuracy: 0.8151 - f1_score: 0.3999 - val_loss: 0.7310 - val_accuracy: 0.7394 - val_f1_score: 0.3271\n",
      "Epoch 10/20\n",
      "25/25 [==============================] - 12s 492ms/step - loss: 0.5095 - accuracy: 0.8243 - f1_score: 0.4212 - val_loss: 0.7562 - val_accuracy: 0.7538 - val_f1_score: 0.3602\n",
      "Epoch 11/20\n",
      "25/25 [==============================] - 12s 490ms/step - loss: 0.4843 - accuracy: 0.8346 - f1_score: 0.4660 - val_loss: 0.7978 - val_accuracy: 0.7509 - val_f1_score: 0.3684\n",
      "Epoch 12/20\n",
      "25/25 [==============================] - 12s 498ms/step - loss: 0.4740 - accuracy: 0.8390 - f1_score: 0.4921 - val_loss: 0.7891 - val_accuracy: 0.7473 - val_f1_score: 0.3612\n",
      "Epoch 13/20\n",
      "25/25 [==============================] - 12s 496ms/step - loss: 0.4509 - accuracy: 0.8444 - f1_score: 0.5063 - val_loss: 0.8010 - val_accuracy: 0.7444 - val_f1_score: 0.3713\n",
      "Epoch 14/20\n",
      "25/25 [==============================] - 12s 494ms/step - loss: 0.4327 - accuracy: 0.8544 - f1_score: 0.5604 - val_loss: 0.8316 - val_accuracy: 0.7437 - val_f1_score: 0.3746\n",
      "Epoch 15/20\n",
      "25/25 [==============================] - 12s 494ms/step - loss: 0.4241 - accuracy: 0.8589 - f1_score: 0.5854 - val_loss: 0.8687 - val_accuracy: 0.7437 - val_f1_score: 0.3838\n",
      "Epoch 16/20\n",
      "25/25 [==============================] - 12s 490ms/step - loss: 0.4087 - accuracy: 0.8658 - f1_score: 0.6128 - val_loss: 0.8951 - val_accuracy: 0.7379 - val_f1_score: 0.3851\n",
      "Epoch 17/20\n",
      "25/25 [==============================] - 12s 490ms/step - loss: 0.3929 - accuracy: 0.8740 - f1_score: 0.6480 - val_loss: 0.9145 - val_accuracy: 0.7343 - val_f1_score: 0.3811\n",
      "Epoch 18/20\n",
      "25/25 [==============================] - 12s 491ms/step - loss: 0.3888 - accuracy: 0.8730 - f1_score: 0.6425 - val_loss: 0.9385 - val_accuracy: 0.7430 - val_f1_score: 0.4038\n",
      "Epoch 19/20\n",
      "25/25 [==============================] - 12s 489ms/step - loss: 0.3715 - accuracy: 0.8804 - f1_score: 0.6734 - val_loss: 0.9936 - val_accuracy: 0.7365 - val_f1_score: 0.4056\n",
      "Epoch 20/20\n",
      "25/25 [==============================] - 12s 495ms/step - loss: 0.3615 - accuracy: 0.8833 - f1_score: 0.6856 - val_loss: 1.0214 - val_accuracy: 0.7357 - val_f1_score: 0.3867\n"
     ]
    }
   ],
   "source": [
    "history = model.fit(X_train, y_train,\n",
    "                    batch_size=batch_size,\n",
    "                    epochs=epochs,\n",
    "                    verbose=1,\n",
    "                    validation_split=0.1)"
   ]
  },
  {
   "cell_type": "code",
   "execution_count": 41,
   "metadata": {
    "colab": {
     "base_uri": "https://localhost:8080/"
    },
    "id": "5WNS1g6QZpad",
    "outputId": "b42c3e25-a5ec-410c-ed29-6be5eaea5443"
   },
   "outputs": [
    {
     "name": "stdout",
     "output_type": "stream",
     "text": [
      "14/14 [==============================] - 2s 131ms/step - loss: 1.0596 - accuracy: 0.7420 - f1_score: 0.3803\n"
     ]
    }
   ],
   "source": [
    "score_rnncnn= model.evaluate(X_test, y_test, batch_size=batch_size, verbose=1)"
   ]
  },
  {
   "cell_type": "code",
   "execution_count": 42,
   "metadata": {
    "colab": {
     "base_uri": "https://localhost:8080/",
     "height": 112
    },
    "id": "z1vARba7ZvOc",
    "outputId": "55d67c77-8278-4d7f-91e4-8b38d42ab3a5"
   },
   "outputs": [
    {
     "data": {
      "text/html": [
       "\n",
       "  <div id=\"df-699691ad-9e0f-435d-a9cb-d799fc1125d8\">\n",
       "    <div class=\"colab-df-container\">\n",
       "      <div>\n",
       "<style scoped>\n",
       "    .dataframe tbody tr th:only-of-type {\n",
       "        vertical-align: middle;\n",
       "    }\n",
       "\n",
       "    .dataframe tbody tr th {\n",
       "        vertical-align: top;\n",
       "    }\n",
       "\n",
       "    .dataframe thead th {\n",
       "        text-align: right;\n",
       "    }\n",
       "</style>\n",
       "<table border=\"1\" class=\"dataframe\">\n",
       "  <thead>\n",
       "    <tr style=\"text-align: right;\">\n",
       "      <th></th>\n",
       "      <th>model</th>\n",
       "      <th>f1_score</th>\n",
       "    </tr>\n",
       "  </thead>\n",
       "  <tbody>\n",
       "    <tr>\n",
       "      <th>1</th>\n",
       "      <td>RNN_CNN</td>\n",
       "      <td>0.742006</td>\n",
       "    </tr>\n",
       "    <tr>\n",
       "      <th>0</th>\n",
       "      <td>CNN_RNN</td>\n",
       "      <td>0.721179</td>\n",
       "    </tr>\n",
       "  </tbody>\n",
       "</table>\n",
       "</div>\n",
       "      <button class=\"colab-df-convert\" onclick=\"convertToInteractive('df-699691ad-9e0f-435d-a9cb-d799fc1125d8')\"\n",
       "              title=\"Convert this dataframe to an interactive table.\"\n",
       "              style=\"display:none;\">\n",
       "        \n",
       "  <svg xmlns=\"http://www.w3.org/2000/svg\" height=\"24px\"viewBox=\"0 0 24 24\"\n",
       "       width=\"24px\">\n",
       "    <path d=\"M0 0h24v24H0V0z\" fill=\"none\"/>\n",
       "    <path d=\"M18.56 5.44l.94 2.06.94-2.06 2.06-.94-2.06-.94-.94-2.06-.94 2.06-2.06.94zm-11 1L8.5 8.5l.94-2.06 2.06-.94-2.06-.94L8.5 2.5l-.94 2.06-2.06.94zm10 10l.94 2.06.94-2.06 2.06-.94-2.06-.94-.94-2.06-.94 2.06-2.06.94z\"/><path d=\"M17.41 7.96l-1.37-1.37c-.4-.4-.92-.59-1.43-.59-.52 0-1.04.2-1.43.59L10.3 9.45l-7.72 7.72c-.78.78-.78 2.05 0 2.83L4 21.41c.39.39.9.59 1.41.59.51 0 1.02-.2 1.41-.59l7.78-7.78 2.81-2.81c.8-.78.8-2.07 0-2.86zM5.41 20L4 18.59l7.72-7.72 1.47 1.35L5.41 20z\"/>\n",
       "  </svg>\n",
       "      </button>\n",
       "      \n",
       "  <style>\n",
       "    .colab-df-container {\n",
       "      display:flex;\n",
       "      flex-wrap:wrap;\n",
       "      gap: 12px;\n",
       "    }\n",
       "\n",
       "    .colab-df-convert {\n",
       "      background-color: #E8F0FE;\n",
       "      border: none;\n",
       "      border-radius: 50%;\n",
       "      cursor: pointer;\n",
       "      display: none;\n",
       "      fill: #1967D2;\n",
       "      height: 32px;\n",
       "      padding: 0 0 0 0;\n",
       "      width: 32px;\n",
       "    }\n",
       "\n",
       "    .colab-df-convert:hover {\n",
       "      background-color: #E2EBFA;\n",
       "      box-shadow: 0px 1px 2px rgba(60, 64, 67, 0.3), 0px 1px 3px 1px rgba(60, 64, 67, 0.15);\n",
       "      fill: #174EA6;\n",
       "    }\n",
       "\n",
       "    [theme=dark] .colab-df-convert {\n",
       "      background-color: #3B4455;\n",
       "      fill: #D2E3FC;\n",
       "    }\n",
       "\n",
       "    [theme=dark] .colab-df-convert:hover {\n",
       "      background-color: #434B5C;\n",
       "      box-shadow: 0px 1px 3px 1px rgba(0, 0, 0, 0.15);\n",
       "      filter: drop-shadow(0px 1px 2px rgba(0, 0, 0, 0.3));\n",
       "      fill: #FFFFFF;\n",
       "    }\n",
       "  </style>\n",
       "\n",
       "      <script>\n",
       "        const buttonEl =\n",
       "          document.querySelector('#df-699691ad-9e0f-435d-a9cb-d799fc1125d8 button.colab-df-convert');\n",
       "        buttonEl.style.display =\n",
       "          google.colab.kernel.accessAllowed ? 'block' : 'none';\n",
       "\n",
       "        async function convertToInteractive(key) {\n",
       "          const element = document.querySelector('#df-699691ad-9e0f-435d-a9cb-d799fc1125d8');\n",
       "          const dataTable =\n",
       "            await google.colab.kernel.invokeFunction('convertToInteractive',\n",
       "                                                     [key], {});\n",
       "          if (!dataTable) return;\n",
       "\n",
       "          const docLinkHtml = 'Like what you see? Visit the ' +\n",
       "            '<a target=\"_blank\" href=https://colab.research.google.com/notebooks/data_table.ipynb>data table notebook</a>'\n",
       "            + ' to learn more about interactive tables.';\n",
       "          element.innerHTML = '';\n",
       "          dataTable['output_type'] = 'display_data';\n",
       "          await google.colab.output.renderOutput(dataTable, element);\n",
       "          const docLink = document.createElement('div');\n",
       "          docLink.innerHTML = docLinkHtml;\n",
       "          element.appendChild(docLink);\n",
       "        }\n",
       "      </script>\n",
       "    </div>\n",
       "  </div>\n",
       "  "
      ],
      "text/plain": [
       "     model  f1_score\n",
       "1  RNN_CNN  0.742006\n",
       "0  CNN_RNN  0.721179"
      ]
     },
     "execution_count": 42,
     "metadata": {},
     "output_type": "execute_result"
    }
   ],
   "source": [
    "result_CNN_RNN = pd.DataFrame({'model': ['CNN_RNN', 'RNN_CNN'], 'f1_score': [score_cnnrnn[1], score_rnncnn[1]]})\n",
    "result_CNN_RNN.sort_values(by='f1_score', ascending=False)"
   ]
  },
  {
   "cell_type": "markdown",
   "metadata": {
    "id": "E_QwPCekZ2mC"
   },
   "source": [
    "#### У RNN_CNN результат лучше"
   ]
  },
  {
   "cell_type": "markdown",
   "metadata": {
    "id": "rrvk07ZAaLxd"
   },
   "source": [
    "### Сравнение всех моделей"
   ]
  },
  {
   "cell_type": "code",
   "execution_count": 43,
   "metadata": {
    "colab": {
     "base_uri": "https://localhost:8080/",
     "height": 238
    },
    "id": "_GhiD4cNaG-C",
    "outputId": "7870efa8-3f81-4626-836f-f7006fa19d2f"
   },
   "outputs": [
    {
     "data": {
      "text/html": [
       "\n",
       "  <div id=\"df-b200e78c-aa96-49fe-a2b6-7c0fddaec85e\">\n",
       "    <div class=\"colab-df-container\">\n",
       "      <div>\n",
       "<style scoped>\n",
       "    .dataframe tbody tr th:only-of-type {\n",
       "        vertical-align: middle;\n",
       "    }\n",
       "\n",
       "    .dataframe tbody tr th {\n",
       "        vertical-align: top;\n",
       "    }\n",
       "\n",
       "    .dataframe thead th {\n",
       "        text-align: right;\n",
       "    }\n",
       "</style>\n",
       "<table border=\"1\" class=\"dataframe\">\n",
       "  <thead>\n",
       "    <tr style=\"text-align: right;\">\n",
       "      <th></th>\n",
       "      <th>model</th>\n",
       "      <th>f1_score</th>\n",
       "    </tr>\n",
       "  </thead>\n",
       "  <tbody>\n",
       "    <tr>\n",
       "      <th>5</th>\n",
       "      <td>RNN_CNN</td>\n",
       "      <td>0.742006</td>\n",
       "    </tr>\n",
       "    <tr>\n",
       "      <th>2</th>\n",
       "      <td>LSTM</td>\n",
       "      <td>0.741273</td>\n",
       "    </tr>\n",
       "    <tr>\n",
       "      <th>1</th>\n",
       "      <td>SimpleRNN</td>\n",
       "      <td>0.736433</td>\n",
       "    </tr>\n",
       "    <tr>\n",
       "      <th>0</th>\n",
       "      <td>CNN</td>\n",
       "      <td>0.735260</td>\n",
       "    </tr>\n",
       "    <tr>\n",
       "      <th>3</th>\n",
       "      <td>GRU</td>\n",
       "      <td>0.731446</td>\n",
       "    </tr>\n",
       "    <tr>\n",
       "      <th>4</th>\n",
       "      <td>CNN_RNN</td>\n",
       "      <td>0.721179</td>\n",
       "    </tr>\n",
       "  </tbody>\n",
       "</table>\n",
       "</div>\n",
       "      <button class=\"colab-df-convert\" onclick=\"convertToInteractive('df-b200e78c-aa96-49fe-a2b6-7c0fddaec85e')\"\n",
       "              title=\"Convert this dataframe to an interactive table.\"\n",
       "              style=\"display:none;\">\n",
       "        \n",
       "  <svg xmlns=\"http://www.w3.org/2000/svg\" height=\"24px\"viewBox=\"0 0 24 24\"\n",
       "       width=\"24px\">\n",
       "    <path d=\"M0 0h24v24H0V0z\" fill=\"none\"/>\n",
       "    <path d=\"M18.56 5.44l.94 2.06.94-2.06 2.06-.94-2.06-.94-.94-2.06-.94 2.06-2.06.94zm-11 1L8.5 8.5l.94-2.06 2.06-.94-2.06-.94L8.5 2.5l-.94 2.06-2.06.94zm10 10l.94 2.06.94-2.06 2.06-.94-2.06-.94-.94-2.06-.94 2.06-2.06.94z\"/><path d=\"M17.41 7.96l-1.37-1.37c-.4-.4-.92-.59-1.43-.59-.52 0-1.04.2-1.43.59L10.3 9.45l-7.72 7.72c-.78.78-.78 2.05 0 2.83L4 21.41c.39.39.9.59 1.41.59.51 0 1.02-.2 1.41-.59l7.78-7.78 2.81-2.81c.8-.78.8-2.07 0-2.86zM5.41 20L4 18.59l7.72-7.72 1.47 1.35L5.41 20z\"/>\n",
       "  </svg>\n",
       "      </button>\n",
       "      \n",
       "  <style>\n",
       "    .colab-df-container {\n",
       "      display:flex;\n",
       "      flex-wrap:wrap;\n",
       "      gap: 12px;\n",
       "    }\n",
       "\n",
       "    .colab-df-convert {\n",
       "      background-color: #E8F0FE;\n",
       "      border: none;\n",
       "      border-radius: 50%;\n",
       "      cursor: pointer;\n",
       "      display: none;\n",
       "      fill: #1967D2;\n",
       "      height: 32px;\n",
       "      padding: 0 0 0 0;\n",
       "      width: 32px;\n",
       "    }\n",
       "\n",
       "    .colab-df-convert:hover {\n",
       "      background-color: #E2EBFA;\n",
       "      box-shadow: 0px 1px 2px rgba(60, 64, 67, 0.3), 0px 1px 3px 1px rgba(60, 64, 67, 0.15);\n",
       "      fill: #174EA6;\n",
       "    }\n",
       "\n",
       "    [theme=dark] .colab-df-convert {\n",
       "      background-color: #3B4455;\n",
       "      fill: #D2E3FC;\n",
       "    }\n",
       "\n",
       "    [theme=dark] .colab-df-convert:hover {\n",
       "      background-color: #434B5C;\n",
       "      box-shadow: 0px 1px 3px 1px rgba(0, 0, 0, 0.15);\n",
       "      filter: drop-shadow(0px 1px 2px rgba(0, 0, 0, 0.3));\n",
       "      fill: #FFFFFF;\n",
       "    }\n",
       "  </style>\n",
       "\n",
       "      <script>\n",
       "        const buttonEl =\n",
       "          document.querySelector('#df-b200e78c-aa96-49fe-a2b6-7c0fddaec85e button.colab-df-convert');\n",
       "        buttonEl.style.display =\n",
       "          google.colab.kernel.accessAllowed ? 'block' : 'none';\n",
       "\n",
       "        async function convertToInteractive(key) {\n",
       "          const element = document.querySelector('#df-b200e78c-aa96-49fe-a2b6-7c0fddaec85e');\n",
       "          const dataTable =\n",
       "            await google.colab.kernel.invokeFunction('convertToInteractive',\n",
       "                                                     [key], {});\n",
       "          if (!dataTable) return;\n",
       "\n",
       "          const docLinkHtml = 'Like what you see? Visit the ' +\n",
       "            '<a target=\"_blank\" href=https://colab.research.google.com/notebooks/data_table.ipynb>data table notebook</a>'\n",
       "            + ' to learn more about interactive tables.';\n",
       "          element.innerHTML = '';\n",
       "          dataTable['output_type'] = 'display_data';\n",
       "          await google.colab.output.renderOutput(dataTable, element);\n",
       "          const docLink = document.createElement('div');\n",
       "          docLink.innerHTML = docLinkHtml;\n",
       "          element.appendChild(docLink);\n",
       "        }\n",
       "      </script>\n",
       "    </div>\n",
       "  </div>\n",
       "  "
      ],
      "text/plain": [
       "       model  f1_score\n",
       "5    RNN_CNN  0.742006\n",
       "2       LSTM  0.741273\n",
       "1  SimpleRNN  0.736433\n",
       "0        CNN  0.735260\n",
       "3        GRU  0.731446\n",
       "4    CNN_RNN  0.721179"
      ]
     },
     "execution_count": 43,
     "metadata": {},
     "output_type": "execute_result"
    }
   ],
   "source": [
    "result_CNN = pd.DataFrame({'model': 'CNN', 'f1_score': [score_conv[1]]})\n",
    "result_models = pd.concat([result_CNN, result_RNN, result_CNN_RNN], ignore_index=True)\n",
    "result_models.sort_values(by='f1_score', ascending=False)"
   ]
  }
 ],
 "metadata": {
  "accelerator": "GPU",
  "colab": {
   "collapsed_sections": [],
   "name": "gb_nlpintro_hw08.ipynb",
   "provenance": []
  },
  "gpuClass": "standard",
  "kernelspec": {
   "display_name": "Python 3 (ipykernel)",
   "language": "python",
   "name": "python3"
  },
  "language_info": {
   "codemirror_mode": {
    "name": "ipython",
    "version": 3
   },
   "file_extension": ".py",
   "mimetype": "text/x-python",
   "name": "python",
   "nbconvert_exporter": "python",
   "pygments_lexer": "ipython3",
   "version": "3.8.7"
  }
 },
 "nbformat": 4,
 "nbformat_minor": 1
}
